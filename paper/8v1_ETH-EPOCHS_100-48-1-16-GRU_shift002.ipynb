{
 "cells": [
  {
   "cell_type": "code",
   "execution_count": 1,
   "id": "63a3f783",
   "metadata": {
    "ExecuteTime": {
     "end_time": "2022-02-14T19:41:49.589505Z",
     "start_time": "2022-02-14T19:41:49.462706Z"
    },
    "scrolled": false
   },
   "outputs": [
    {
     "data": {
      "application/javascript": [
       "IPython.notebook.set_autosave_interval(0)"
      ]
     },
     "metadata": {},
     "output_type": "display_data"
    },
    {
     "name": "stdout",
     "output_type": "stream",
     "text": [
      "Autosave disabled\n",
      "Python 3.7.11\n"
     ]
    }
   ],
   "source": [
    "%autosave 0\n",
    "!python -V"
   ]
  },
  {
   "cell_type": "code",
   "execution_count": 2,
   "id": "d3f81ace",
   "metadata": {},
   "outputs": [],
   "source": [
    "# Uncomment to install required packages\n",
    "#!conda install -c conda-forge -c pytorch u8darts-all ipywidgets psutil gputil tabulate tensorflow -y"
   ]
  },
  {
   "cell_type": "code",
   "execution_count": 3,
   "id": "1f2ef1aa",
   "metadata": {
    "scrolled": true
   },
   "outputs": [
    {
     "name": "stdout",
     "output_type": "stream",
     "text": [
      "========================================================================================================================\n",
      "------------------------------------------------ Uptime Information ----------------------------------------------------\n",
      "Last boot:     2022-06-06 23:00:28.748171\n",
      "Current time:  2022-06-07 07:07:52.749168\n",
      "Current time:  01d 08h 07m\n",
      "------------------------------------------------ System Information ----------------------------------------------------\n",
      "System: Windows\n",
      "Version: 10.0.19041\n",
      "Machine: AMD64\n",
      "------------------------------------------------ Hardware Information --------------------------------------------------\n",
      "Processor: Intel64 Family 6 Model 165 Stepping 5, GenuineIntel\n",
      "Physical cores: 10  - Total cores: 20\n",
      "Max Frequency: 3696Mhz  - Current Frequency: 3696Mhz\n",
      "Total memory (GB):34\n",
      "------------------------------------------------ GPU Information -------------------------------------------------------\n",
      "  id  name                     load    free memory    used memory    total memory\n",
      "----  -----------------------  ------  -------------  -------------  --------------\n",
      "   0  NVIDIA GeForce RTX 3090  6.0%    22405.0MB      2171.0MB       24576.0MB\n",
      "========================================================================================================================\n"
     ]
    }
   ],
   "source": [
    "import os\n",
    "import time\n",
    "import psutil\n",
    "import GPUtil\n",
    "import platform\n",
    "import tabulate\n",
    "import datetime\n",
    "\n",
    "from tabulate import tabulate\n",
    "\n",
    "print(\"=\"*120)\n",
    "print(\"-\"*48, \"Uptime Information\", \"-\"*52)\n",
    "print(f\"Last boot:    \", datetime.datetime.fromtimestamp(psutil.boot_time()))\n",
    "print(f\"Current time: \", datetime.datetime.now())\n",
    "uptimeSeconds = time.time() - psutil.boot_time()\n",
    "uptime = time.strftime('%dd %Hh %Mm', time.gmtime(uptimeSeconds))\n",
    "print(f\"Current time: \", uptime)\n",
    "#print(f\"Uptime: \", uptime)\n",
    "print(\"-\"*48, \"System Information\", \"-\"*52)\n",
    "uname = platform.uname()\n",
    "print(f\"System: {uname.system}\")\n",
    "print(f\"Version: {uname.version}\")\n",
    "print(f\"Machine: {uname.machine}\")\n",
    "print(\"-\"*48, \"Hardware Information\", \"-\"*50)\n",
    "print(f\"Processor: {uname.processor}\")\n",
    "print(\"Physical cores:\", psutil.cpu_count(logical=False), \" - Total cores:\", psutil.cpu_count(logical=True))\n",
    "cpufreq = psutil.cpu_freq()\n",
    "print(f\"Max Frequency: {cpufreq.max:.0f}Mhz\", f\" - Current Frequency: {cpufreq.current:.0f}Mhz\")\n",
    "svmem = psutil.virtual_memory()\n",
    "print(\"Total memory (GB):{:.0f}\".format(svmem.total/1e9))\n",
    "print(\"-\"*48, \"GPU Information\", \"-\"*55)\n",
    "gpus = GPUtil.getGPUs()\n",
    "list_gpus = []\n",
    "for gpu in gpus:\n",
    "    gpu_id = gpu.id\n",
    "    gpu_name = gpu.name\n",
    "    gpu_load = f\"{gpu.load*100}%\"\n",
    "    gpu_free_memory = f\"{gpu.memoryFree}MB\"\n",
    "    gpu_used_memory = f\"{gpu.memoryUsed}MB\"\n",
    "    gpu_total_memory = f\"{gpu.memoryTotal}MB\"\n",
    "    gpu_temperature = f\"{gpu.temperature} °C\"\n",
    "    gpu_uuid = gpu.uuid\n",
    "    list_gpus.append((\n",
    "        gpu_id, gpu_name, gpu_load, gpu_free_memory, gpu_used_memory,\n",
    "        gpu_total_memory\n",
    "    ))\n",
    "\n",
    "print(tabulate(list_gpus, headers=(\"id\", \"name\", \"load\", \"free memory\", \"used memory\", \"total memory\",\n",
    "                                   \"temperature\", \"uuid\")))\n",
    "print(\"=\"*120)"
   ]
  },
  {
   "cell_type": "code",
   "execution_count": 4,
   "id": "a633a05f",
   "metadata": {
    "ExecuteTime": {
     "end_time": "2022-02-14T19:41:49.598453Z",
     "start_time": "2022-02-14T19:41:49.593059Z"
    }
   },
   "outputs": [],
   "source": [
    "import time\n",
    "start = time.time()\n",
    "\n",
    "#Common module parameters:\n",
    "NUMPY_RANDOM_SEED=10\n",
    "figsize = (9, 6)\n",
    "\n",
    "#Train validate test split (70%/15%/15%). Test split is inferred from test and validate values.\n",
    "train_size = 0.70\n",
    "valid_size=0.15\n",
    "\n",
    "\n",
    "LAZY_WALK_LAG=1 # # of periods (hours) to compute metrics for a lazy walk baseline scenario.\n",
    "\n",
    "MODEL_NAME_RNN='2v1_ALLDNNs-EPOCHS_1000-48-2-BASE_c1'\n",
    "MODEL_NAME_LSTM='2v1_ALLDNNs-EPOCHS_100-48-2-BASE_c2'\n",
    "MODEL_NAME_TCN='2v1_ALLDNNs-EPOCHS_100-48-2-BASE_c3'\n",
    "MODEL_NAME_GRU='2v1_ALLDNNs-EPOCHS_100-48-2-BASE_c4'\n",
    "MODEL_NAME_NBEATS='2v1_ALLDNNs-EPOCHS_100-48-2-BASE_c5'\n",
    "MODEL_NAME_TFT='2v1_ALLDNNs-EPOCHS_100-48-2-BASE_c6'\n",
    "\n",
    "# FOR MACOS \"/darts_logs/\" OR \"\\\\darts_logs\\\\\" FOR WIN - CHOOSE ACCORDINGLY:\n",
    "LOG_PATH=\"/darts_logs/\" \n",
    "TENSORBOARD_LOG_PATH_RNN = ((os.getcwd() + LOG_PATH + MODEL_NAME_RNN))\n",
    "TENSORBOARD_LOG_PATH_LSTM = ((os.getcwd() + LOG_PATH + MODEL_NAME_LSTM))\n",
    "TENSORBOARD_LOG_PATH_TCN = ((os.getcwd() + LOG_PATH + MODEL_NAME_TCN))\n",
    "TENSORBOARD_LOG_PATH_GRU = ((os.getcwd() + LOG_PATH + MODEL_NAME_GRU))\n",
    "TENSORBOARD_LOG_PATH_NBEATS = ((os.getcwd() + LOG_PATH + MODEL_NAME_NBEATS))\n",
    "TENSORBOARD_LOG_PATH_TFT = ((os.getcwd() + LOG_PATH + MODEL_NAME_TFT))\n",
    "\n",
    "#Deep Neural Network parameters:\n",
    "#RANDOM_STATE=31\n",
    "INPUT_CHUNK_LENGTH = 48 #periods = hours\n",
    "OUTPUT_CHUNK_LENGTH = 1\n",
    "FORECAST_HORIZON = 1 #periods = hours\n",
    "HIST_FOR_TIME_START = '2021-10-19T11:00:00' #must be minimum (FORECAST_HORIZON +1) periods ahead of the test start series\n",
    "\n",
    "N_EPOCHS_RNN=100\n",
    "N_EPOCHS_LSTM=100\n",
    "N_EPOCHS_TCN=100\n",
    "N_EPOCHS_GRU=100\n",
    "N_EPOCHS_NBEATS=100\n",
    "N_EPOCHS_TFT=100"
   ]
  },
  {
   "cell_type": "code",
   "execution_count": 5,
   "id": "0d7d3729",
   "metadata": {
    "ExecuteTime": {
     "end_time": "2022-02-14T19:41:52.322524Z",
     "start_time": "2022-02-14T19:41:49.600613Z"
    }
   },
   "outputs": [
    {
     "name": "stderr",
     "output_type": "stream",
     "text": [
      "Importing plotly failed. Interactive plots will not work.\n"
     ]
    }
   ],
   "source": [
    "import numpy as np\n",
    "import pandas as pd\n",
    "import random\n",
    "from tqdm import tqdm_notebook as tqdm\n",
    "\n",
    "\n",
    "import matplotlib.pyplot as plt\n",
    "import torch\n",
    "\n",
    "from darts import TimeSeries, concatenate\n",
    "from darts.dataprocessing.transformers import Scaler\n",
    "from darts.models import TFTModel, RNNModel, TCNModel, BlockRNNModel, NBEATSModel, ARIMA, Prophet\n",
    "from darts.metrics import mape, rmse, r2_score, mae, mse\n",
    "\n",
    "import warnings\n",
    "warnings.filterwarnings(\"ignore\")\n",
    "\n",
    "import logging\n",
    "logging.disable(logging.CRITICAL)\n",
    "\n",
    "%matplotlib inline"
   ]
  },
  {
   "cell_type": "code",
   "execution_count": 6,
   "id": "ae43af4b",
   "metadata": {
    "scrolled": true
   },
   "outputs": [
    {
     "name": "stdout",
     "output_type": "stream",
     "text": [
      "psutil==5.8.0\n",
      "GPUtil==1.4.0\n",
      "platform==1.0.8\n",
      "numpy==1.21.5\n",
      "pandas==1.3.4\n",
      "torch==1.10.2\n",
      "logging==0.5.1.2\n"
     ]
    }
   ],
   "source": [
    "#DARTS version 0.17.1\n",
    "print('\\n'.join(f'{m.__name__}=={m.__version__}' for m in globals().values() if getattr(m, '__version__', None)))"
   ]
  },
  {
   "cell_type": "code",
   "execution_count": 7,
   "id": "0f4d448c",
   "metadata": {},
   "outputs": [],
   "source": [
    "#CONSTANT VALUE TEST TIMESERIES\n",
    "\n",
    "# np.random.seed(NUMPY_RANDOM_SEED)\n",
    "# series_constant = tg.constant_timeseries(\n",
    "#     value=1.0,\n",
    "#     start=pd.to_datetime(TS_START_DATETIME),\n",
    "#     end=pd.to_datetime(TS_END_DATETIME),\n",
    "# #   length=TS_LENGTH,\n",
    "#     freq=TS_FREQUENCY,\n",
    "#     column_name='c',\n",
    "#     )"
   ]
  },
  {
   "cell_type": "code",
   "execution_count": 8,
   "id": "8a8b76d7",
   "metadata": {},
   "outputs": [],
   "source": [
    "# #RANDOM WALK TEST TIMESERIES - Creates a random walk univariate TimeSeries, where each step is obtained by sampling a\n",
    "# #gaussian distribution with mean mean and standard deviation std.\n",
    "\n",
    "# np.random.seed(NUMPY_RANDOM_SEED)\n",
    "# series_random_walk = tg.random_walk_timeseries(\n",
    "#     mean=0.0,\n",
    "#     std=1.0,\n",
    "#     start=pd.to_datetime(TS_START_DATETIME),\n",
    "#     end=pd.to_datetime(TS_END_DATETIME),\n",
    "# #   length=TS_LENGTH,\n",
    "#     freq=TS_FREQUENCY,\n",
    "#     column_name='c',\n",
    "#     )"
   ]
  },
  {
   "cell_type": "code",
   "execution_count": 9,
   "id": "4955ec82",
   "metadata": {
    "ExecuteTime": {
     "end_time": "2022-02-14T19:41:52.485941Z",
     "start_time": "2022-02-14T19:41:52.325152Z"
    }
   },
   "outputs": [],
   "source": [
    "df = pd.read_csv(r\"C:\\Users\\User\\Downloads\\2-price-ohlc-eth-1h-shift_002.csv\", parse_dates=[\"timestamp\"])\n",
    "df['timestamp'] = pd.to_datetime(df.timestamp).dt.tz_localize(None)\n",
    "nof_missing_values_o = sum(np.isnan(df['o']))\n",
    "nof_missing_values_h = sum(np.isnan(df['h']))\n",
    "nof_missing_values_l = sum(np.isnan(df['l']))\n",
    "nof_missing_values_c = sum(np.isnan(df['c']))\n",
    "\n",
    "df = df.fillna(method=\"backfill\")\n",
    "nof_missing_values = sum(np.isnan(df['o']))\n",
    "\n",
    "df = df.fillna(method=\"backfill\")\n",
    "nof_missing_values = sum(np.isnan(df['h']))\n",
    "\n",
    "df = df.fillna(method=\"backfill\")\n",
    "nof_missing_values = sum(np.isnan(df['l']))\n",
    "\n",
    "df = df.fillna(method=\"backfill\")\n",
    "nof_missing_values = sum(np.isnan(df['c']))\n",
    "\n",
    "train_index = int(len(df)*train_size)\n",
    "\n",
    "df_train = df[0:train_index]\n",
    "df_rem = df[train_index:]\n",
    "\n",
    "valid_index = int(len(df)*valid_size)\n",
    "\n",
    "df_val = df[train_index:train_index+valid_index]\n",
    "df_test = df[train_index+valid_index:]\n",
    "\n",
    "series = TimeSeries.from_dataframe(df, time_col='timestamp', value_cols=['c']).astype(np.float32)\n",
    "series_covariates = TimeSeries.from_dataframe(df, time_col='timestamp', value_cols=['h','l','o']).astype(np.float32)\n",
    "train = TimeSeries.from_dataframe(df_train, time_col='timestamp', value_cols=['c']).astype(np.float32)\n",
    "train_covariates = TimeSeries.from_dataframe(df_train, time_col='timestamp', value_cols=['h','l','o']).astype(np.float32)\n",
    "val = TimeSeries.from_dataframe(df_val, time_col='timestamp', value_cols=['c']).astype(np.float32)\n",
    "val_covariates = TimeSeries.from_dataframe(df_val, time_col='timestamp', value_cols=['h','l','o']).astype(np.float32)\n",
    "test = TimeSeries.from_dataframe(df_test, time_col='timestamp', value_cols=['c']).astype(np.float32)\n",
    "test_covariates = TimeSeries.from_dataframe(df_test, time_col='timestamp', value_cols=['h','l','o']).astype(np.float32)"
   ]
  },
  {
   "cell_type": "code",
   "execution_count": 10,
   "id": "97a5d71e",
   "metadata": {
    "scrolled": true
   },
   "outputs": [],
   "source": [
    "# from darts.utils.statistics import check_seasonality, plot_acf\n",
    "\n",
    "# print('Seasonality: ',check_seasonality(series, max_lag=(len(series)-1)))\n",
    "# plot_acf(series, 1, max_lag=(len(series)-1))"
   ]
  },
  {
   "cell_type": "code",
   "execution_count": 11,
   "id": "8f01cee2",
   "metadata": {
    "ExecuteTime": {
     "end_time": "2022-02-14T19:41:53.210675Z",
     "start_time": "2022-02-14T19:41:53.145941Z"
    }
   },
   "outputs": [],
   "source": [
    "transformer = Scaler()\n",
    "train_transformed = transformer.fit_transform(train)\n",
    "val_transformed = transformer.transform(val)\n",
    "test_transformed = transformer.transform(test)\n",
    "train_covariates_transformed = transformer.fit_transform(train_covariates)\n",
    "val_covariates_transformed = transformer.transform(val_covariates)\n",
    "test_covariates_transformed = transformer.transform(test_covariates)"
   ]
  },
  {
   "cell_type": "code",
   "execution_count": 12,
   "id": "b0050bb4",
   "metadata": {},
   "outputs": [
    {
     "data": {
      "text/plain": [
       "Text(0.5, 1.0, 'Conjunto de Dados Ethereum - Treinamento, Validacao e Teste')"
      ]
     },
     "execution_count": 12,
     "metadata": {},
     "output_type": "execute_result"
    },
    {
     "data": {
      "image/png": "[encoded data removed]",
      "text/plain": [
       "<Figure size 432x288 with 1 Axes>"
      ]
     },
     "metadata": {
      "needs_background": "light"
     },
     "output_type": "display_data"
    }
   ],
   "source": [
    "train.plot(label=\"Conjunto de Treinamento\")\n",
    "val.plot(label=\"Conjunto de Validacao\")\n",
    "test.plot(label=\"Conjunto de Teste\")\n",
    "plt.legend(\n",
    "           borderpad=2,\n",
    "           labelspacing=1.0,\n",
    "           title_fontsize='large',\n",
    "           shadow=False,\n",
    "           frameon=False,\n",
    "           loc='best'  \n",
    "          )\n",
    "plt.ylabel('Valor de Fechamento (ETH) em USD')\n",
    "plt.title('Conjunto de Dados Ethereum - Treinamento, Validacao e Teste',fontsize=13)"
   ]
  },
  {
   "cell_type": "code",
   "execution_count": 13,
   "id": "5e1cb98d",
   "metadata": {},
   "outputs": [
    {
     "name": "stdout",
     "output_type": "stream",
     "text": [
      "========================================================================\n",
      "Dataset type  -      Start time    -      End time     -Samples - %split\n",
      "------------------------------------------------------------------------\n",
      "Full dataset:  2020-01-03 00:00:00  2022-02-09 18:00:00  18451      100\n",
      "Train set:     2020-01-03 00:00:00  2021-06-24 02:00:00  12915       70\n",
      "Validate set:  2021-06-24 03:00:00  2021-10-17 09:00:00   2767       15\n",
      "Test set:      2021-10-17 10:00:00  2022-02-09 18:00:00   2769       15\n",
      "========================================================================\n"
     ]
    }
   ],
   "source": [
    "print(\"=\"*72)\n",
    "print('Dataset type',' -      Start time    -', '     End time','    -Samples', '- %split')\n",
    "print(\"-\"*72)\n",
    "print('Full dataset: ', series.start_time(),'', series.end_time(),'', len(series),'     {:.0f}'.format((len(series)/len(series)*100)))\n",
    "print('Train set:    ', train.start_time(),'', train.end_time(),'', len(train),'      {:.0f}'.format((len(train)/len(series)*100)))\n",
    "print('Validate set: ', val.start_time(),'', val.end_time(),' ', len(val),'      {:.0f}'.format((len(val)/len(series)*100)))\n",
    "print('Test set:     ', test.start_time(),'', test.end_time(),' ', len(test),'      {:.0f}'.format((len(test)/len(series)*100)))\n",
    "print(\"=\"*72)"
   ]
  },
  {
   "cell_type": "code",
   "execution_count": 14,
   "id": "e8f7344a",
   "metadata": {
    "scrolled": true
   },
   "outputs": [
    {
     "name": "stdout",
     "output_type": "stream",
     "text": [
      "2.875291585922241 seconds\n"
     ]
    }
   ],
   "source": [
    "tic_prep = time.time()\n",
    "prep_elapsed_time = tic_prep - start\n",
    "print(prep_elapsed_time,'seconds')"
   ]
  },
  {
   "cell_type": "code",
   "execution_count": 15,
   "id": "4ac1fd5b",
   "metadata": {
    "scrolled": true
   },
   "outputs": [
    {
     "name": "stdout",
     "output_type": "stream",
     "text": [
      "0; 0.00005578 0.00534888; 0.00746889; 0.99765016; 0.62053744; 524.09583092 95.96883750\n",
      "1; 0.00005689 0.00535597; 0.00754227; 0.99761530; 0.62125670; 521.58927083 95.19540477\n",
      "2; 0.00006276 0.00575635; 0.00792237; 0.99732554; 0.66089355; 521.32976246 95.94221067\n",
      "3; 0.00005551 0.00528093; 0.00745021; 0.99766990; 0.61383261; 520.61063647 95.60210752\n",
      "4; 0.00006494 0.00587918; 0.00805844; 0.99722690; 0.67388127; 521.34798527 96.46844316\n",
      "5; 0.00005885 0.00551078; 0.00767122; 0.99750880; 0.63551003; 518.88309884 96.21776366\n",
      "6; 0.00005170 0.00506281; 0.00719031; 0.99784399; 0.59192167; 522.30028510 88.51762724\n",
      "7; 0.00005572 0.00531447; 0.00746439; 0.99764936; 0.61859069; 522.19876909 88.32795858\n",
      "8; 0.00006412 0.00581658; 0.00800748; 0.99727850; 0.66711046; 521.50294805 96.47337365\n",
      "9; 0.00005902 0.00553224; 0.00768254; 0.99749415; 0.63911132; 521.10505533 96.47359729\n",
      "10; 0.00005887 0.00552517; 0.00767250; 0.99750843; 0.63745142; 521.07893300 96.23216820\n",
      "11; 0.00005077 0.00498075; 0.00712506; 0.99789360; 0.58410191; 519.68861270 96.91918015\n",
      "12; 0.00006074 0.00562951; 0.00779361; 0.99742353; 0.64804009; 519.50411654 96.23612833\n",
      "13; 0.00006062 0.00561240; 0.00778587; 0.99743191; 0.64657233; 521.37526011 96.26005077\n",
      "14; 0.00006373 0.00583843; 0.00798312; 0.99729169; 0.66998708; 521.32900095 96.02281952\n",
      "15; 0.00007186 0.00633379; 0.00847678; 0.99693557; 0.72277505; 517.29270577 96.26282692\n",
      "16; 0.00006252 0.00575940; 0.00790687; 0.99734613; 0.66234982; 519.27455926 95.64109206\n",
      "17; 0.00006336 0.00580609; 0.00795977; 0.99729739; 0.66721700; 521.09378028 95.44200873\n",
      "18; 0.00005451 0.00525938; 0.00738322; 0.99771476; 0.61137662; 522.29576206 95.53830671\n",
      "19; 0.00007186 0.00630533; 0.00847689; 0.99692690; 0.71822959; 522.31460929 96.17628598\n",
      "20; 0.00006368 0.00575480; 0.00797969; 0.99729213; 0.65889843; 521.15231323 96.28254867\n",
      "21; 0.00006497 0.00592325; 0.00806033; 0.99724082; 0.67954035; 521.51135063 96.12714982\n",
      "22; 0.00005564 0.00525642; 0.00745955; 0.99769957; 0.61333710; 519.51692009 95.95615911\n",
      "23; 0.00006097 0.00568138; 0.00780835; 0.99741948; 0.65503912; 520.82039690 96.07900190\n",
      "24; 0.00005382 0.00520110; 0.00733605; 0.99775289; 0.60694949; 521.96705246 96.10438061\n",
      "25; 0.00005521 0.00525933; 0.00743047; 0.99768465; 0.61144819; 522.55481958 96.93195581\n",
      "26; 0.00005257 0.00507251; 0.00725030; 0.99781487; 0.59526092; 521.32008958 96.49018431\n",
      "27; 0.00005606 0.00535369; 0.00748729; 0.99762734; 0.62216297; 521.42484736 96.27997112\n",
      "28; 0.00007419 0.00640075; 0.00861362; 0.99680912; 0.72710081; 521.58635521 96.14299417\n",
      "29; 0.00007634 0.00655400; 0.00873717; 0.99672436; 0.74435752; 520.82677650 96.14677548\n",
      "30; 0.00005215 0.00509767; 0.00722179; 0.99782051; 0.59564752; 521.25338697 97.09811163\n",
      "31; 0.00005335 0.00515434; 0.00730441; 0.99776330; 0.60062562; 521.35045695 96.74287677\n"
     ]
    }
   ],
   "source": [
    "for i in range (32):\n",
    "    tic_ann_begin = time.time()\n",
    "\n",
    "    \n",
    "    gru_model = BlockRNNModel(\n",
    "    model=\"GRU\",\n",
    "    hidden_size=24,\n",
    "    n_rnn_layers=1,\n",
    "    dropout=0.1,\n",
    "    batch_size=16,\n",
    "    n_epochs=N_EPOCHS_GRU,\n",
    "    optimizer_kwargs={\"lr\": 1e-3},\n",
    "    model_name=MODEL_NAME_GRU,\n",
    "    log_tensorboard=True,\n",
    "    random_state=i,\n",
    "    output_chunk_length=FORECAST_HORIZON,        \n",
    "    input_chunk_length=INPUT_CHUNK_LENGTH,\n",
    "    loss_fn=torch.nn.MSELoss(),\n",
    "    optimizer_cls=torch.optim.Adam,\n",
    "    force_reset=True,\n",
    "    save_checkpoints=True,\n",
    "    pl_trainer_kwargs={\n",
    "          'accelerator': 'gpu', 'gpus': [0],\n",
    "          'progress_bar_refresh_rate': False,\n",
    "          'enable_model_summary': False,\n",
    "       },\n",
    "    )\n",
    "\n",
    "    gru_model.fit(\n",
    "        series=train_transformed,\n",
    "        val_series=val_transformed,\n",
    "        verbose=False,\n",
    "    )\n",
    "\n",
    "    best_gru_model = BlockRNNModel.load_from_checkpoint(model_name=MODEL_NAME_GRU, best=True)\n",
    "    \n",
    "    tic_ann_end = time.time()\n",
    "    ann_elapsed_time = tic_ann_end - tic_ann_begin\n",
    "\n",
    "    \n",
    "    backtest_series_gru = best_gru_model.historical_forecasts(\n",
    "    series=test_transformed,\n",
    "    start=pd.Timestamp(HIST_FOR_TIME_START),\n",
    "    forecast_horizon=FORECAST_HORIZON,\n",
    "    stride=1,\n",
    "    retrain=False,\n",
    "    verbose=False,\n",
    "    )\n",
    "\n",
    "\n",
    "    tic_ann_backtest_end = time.time()\n",
    "    ann_backtest_elapsed_time= tic_ann_backtest_end - tic_ann_end\n",
    "\n",
    "\n",
    "    print(\n",
    "      \"{:.0f};\".format(i),\n",
    "      \"{:.8f}\".format(mse(backtest_series_gru, test_transformed)),\n",
    "      \"{:.8f};\".format(mae(backtest_series_gru, test_transformed)),\n",
    "      \"{:.8f};\".format(rmse(backtest_series_gru, test_transformed)),\n",
    "      \"{:.8f};\".format(r2_score(backtest_series_gru, test_transformed)),\n",
    "      \"{:.8f};\".format(mape(backtest_series_gru, test_transformed)),\n",
    "      \"{:.8f}\".format(ann_elapsed_time),\n",
    "      \"{:.8f}\".format(ann_backtest_elapsed_time)\n",
    "    )\n",
    "    \n",
    "    arquivo = open('8v1_ETH-EPOCHS_100-48-1-16-GRU_shift002.txt', 'a')\n",
    "    print(\"{:.0f};\".format(i),\n",
    "    \"{:.8f};\".format(mse(backtest_series_gru, test_transformed)),\n",
    "    \"{:.8f};\".format(mae(backtest_series_gru, test_transformed)),\n",
    "    \"{:.8f};\".format(rmse(backtest_series_gru, test_transformed)),\n",
    "    \"{:.8f};\".format(r2_score(backtest_series_gru, test_transformed)),\n",
    "    \"{:.8f};\".format(mape(backtest_series_gru, test_transformed)),\n",
    "    \"{:.8f}\".format(ann_elapsed_time),\n",
    "    \"{:.8f}\".format(ann_backtest_elapsed_time), file=arquivo) \n",
    "    arquivo.close()"
   ]
  }
 ],
 "metadata": {
  "kernelspec": {
   "display_name": "Python 3 (ipykernel)",
   "language": "python",
   "name": "python3"
  },
  "language_info": {
   "codemirror_mode": {
    "name": "ipython",
    "version": 3
   },
   "file_extension": ".py",
   "mimetype": "text/x-python",
   "name": "python",
   "nbconvert_exporter": "python",
   "pygments_lexer": "ipython3",
   "version": "3.7.11"
  }
 },
 "nbformat": 4,
 "nbformat_minor": 5
}

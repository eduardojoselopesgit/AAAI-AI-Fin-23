{
 "cells": [
  {
   "cell_type": "code",
   "execution_count": 1,
   "id": "63a3f783",
   "metadata": {
    "ExecuteTime": {
     "end_time": "2022-02-14T19:41:49.589505Z",
     "start_time": "2022-02-14T19:41:49.462706Z"
    },
    "scrolled": false
   },
   "outputs": [
    {
     "data": {
      "application/javascript": [
       "IPython.notebook.set_autosave_interval(0)"
      ]
     },
     "metadata": {},
     "output_type": "display_data"
    },
    {
     "name": "stdout",
     "output_type": "stream",
     "text": [
      "Autosave disabled\n",
      "Python 3.7.11\n"
     ]
    }
   ],
   "source": [
    "%autosave 0\n",
    "!python -V"
   ]
  },
  {
   "cell_type": "code",
   "execution_count": 2,
   "id": "d3f81ace",
   "metadata": {},
   "outputs": [],
   "source": [
    "# Uncomment to install required packages\n",
    "#!conda install -c conda-forge -c pytorch u8darts-all ipywidgets psutil gputil tabulate tensorflow -y"
   ]
  },
  {
   "cell_type": "code",
   "execution_count": 3,
   "id": "1f2ef1aa",
   "metadata": {
    "scrolled": true
   },
   "outputs": [
    {
     "name": "stdout",
     "output_type": "stream",
     "text": [
      "========================================================================================================================\n",
      "------------------------------------------------ Uptime Information ----------------------------------------------------\n",
      "Last boot:     2022-06-11 16:32:46.311398\n",
      "Current time:  2022-06-12 06:42:50.311398\n",
      "Current time:  01d 14h 10m\n",
      "------------------------------------------------ System Information ----------------------------------------------------\n",
      "System: Windows\n",
      "Version: 10.0.19041\n",
      "Machine: AMD64\n",
      "------------------------------------------------ Hardware Information --------------------------------------------------\n",
      "Processor: Intel64 Family 6 Model 165 Stepping 5, GenuineIntel\n",
      "Physical cores: 10  - Total cores: 20\n",
      "Max Frequency: 3696Mhz  - Current Frequency: 3696Mhz\n",
      "Total memory (GB):34\n",
      "------------------------------------------------ GPU Information -------------------------------------------------------\n",
      "  id  name                     load    free memory    used memory    total memory\n",
      "----  -----------------------  ------  -------------  -------------  --------------\n",
      "   0  NVIDIA GeForce RTX 3090  0.0%    20791.0MB      3785.0MB       24576.0MB\n",
      "========================================================================================================================\n"
     ]
    }
   ],
   "source": [
    "import os\n",
    "import time\n",
    "import psutil\n",
    "import GPUtil\n",
    "import platform\n",
    "import tabulate\n",
    "import datetime\n",
    "\n",
    "from tabulate import tabulate\n",
    "\n",
    "print(\"=\"*120)\n",
    "print(\"-\"*48, \"Uptime Information\", \"-\"*52)\n",
    "print(f\"Last boot:    \", datetime.datetime.fromtimestamp(psutil.boot_time()))\n",
    "print(f\"Current time: \", datetime.datetime.now())\n",
    "uptimeSeconds = time.time() - psutil.boot_time()\n",
    "uptime = time.strftime('%dd %Hh %Mm', time.gmtime(uptimeSeconds))\n",
    "print(f\"Current time: \", uptime)\n",
    "#print(f\"Uptime: \", uptime)\n",
    "print(\"-\"*48, \"System Information\", \"-\"*52)\n",
    "uname = platform.uname()\n",
    "print(f\"System: {uname.system}\")\n",
    "print(f\"Version: {uname.version}\")\n",
    "print(f\"Machine: {uname.machine}\")\n",
    "print(\"-\"*48, \"Hardware Information\", \"-\"*50)\n",
    "print(f\"Processor: {uname.processor}\")\n",
    "print(\"Physical cores:\", psutil.cpu_count(logical=False), \" - Total cores:\", psutil.cpu_count(logical=True))\n",
    "cpufreq = psutil.cpu_freq()\n",
    "print(f\"Max Frequency: {cpufreq.max:.0f}Mhz\", f\" - Current Frequency: {cpufreq.current:.0f}Mhz\")\n",
    "svmem = psutil.virtual_memory()\n",
    "print(\"Total memory (GB):{:.0f}\".format(svmem.total/1e9))\n",
    "print(\"-\"*48, \"GPU Information\", \"-\"*55)\n",
    "gpus = GPUtil.getGPUs()\n",
    "list_gpus = []\n",
    "for gpu in gpus:\n",
    "    gpu_id = gpu.id\n",
    "    gpu_name = gpu.name\n",
    "    gpu_load = f\"{gpu.load*100}%\"\n",
    "    gpu_free_memory = f\"{gpu.memoryFree}MB\"\n",
    "    gpu_used_memory = f\"{gpu.memoryUsed}MB\"\n",
    "    gpu_total_memory = f\"{gpu.memoryTotal}MB\"\n",
    "    gpu_temperature = f\"{gpu.temperature} °C\"\n",
    "    gpu_uuid = gpu.uuid\n",
    "    list_gpus.append((\n",
    "        gpu_id, gpu_name, gpu_load, gpu_free_memory, gpu_used_memory,\n",
    "        gpu_total_memory\n",
    "    ))\n",
    "\n",
    "print(tabulate(list_gpus, headers=(\"id\", \"name\", \"load\", \"free memory\", \"used memory\", \"total memory\",\n",
    "                                   \"temperature\", \"uuid\")))\n",
    "print(\"=\"*120)"
   ]
  },
  {
   "cell_type": "code",
   "execution_count": 4,
   "id": "a633a05f",
   "metadata": {
    "ExecuteTime": {
     "end_time": "2022-02-14T19:41:49.598453Z",
     "start_time": "2022-02-14T19:41:49.593059Z"
    }
   },
   "outputs": [],
   "source": [
    "import time\n",
    "start = time.time()\n",
    "\n",
    "#Common module parameters:\n",
    "NUMPY_RANDOM_SEED=10\n",
    "figsize = (9, 6)\n",
    "\n",
    "#Train validate test split (70%/15%/15%). Test split is inferred from test and validate values.\n",
    "train_size = 0.70\n",
    "valid_size=0.15\n",
    "\n",
    "\n",
    "LAZY_WALK_LAG=1 # # of periods (hours) to compute metrics for a lazy walk baseline scenario.\n",
    "\n",
    "MODEL_NAME_RNN='2v1_ALLDNNs-EPOCHS_1000-48-2-BASE_c1'\n",
    "MODEL_NAME_LSTM='2v1_ALLDNNs-EPOCHS_100-48-2-BASE_c2'\n",
    "MODEL_NAME_TCN='2v1_ALLDNNs-EPOCHS_100-48-2-BASE_c3'\n",
    "MODEL_NAME_GRU='2v1_ALLDNNs-EPOCHS_100-48-2-BASE_c4'\n",
    "MODEL_NAME_NBEATS='2v1_ALLDNNs-EPOCHS_100-48-2-BASE_c5'\n",
    "MODEL_NAME_TFT='2v1_ALLDNNs-EPOCHS_100-48-2-BASE_c6'\n",
    "\n",
    "# FOR MACOS \"/darts_logs/\" OR \"\\\\darts_logs\\\\\" FOR WIN - CHOOSE ACCORDINGLY:\n",
    "LOG_PATH=\"/darts_logs/\" \n",
    "TENSORBOARD_LOG_PATH_RNN = ((os.getcwd() + LOG_PATH + MODEL_NAME_RNN))\n",
    "TENSORBOARD_LOG_PATH_LSTM = ((os.getcwd() + LOG_PATH + MODEL_NAME_LSTM))\n",
    "TENSORBOARD_LOG_PATH_TCN = ((os.getcwd() + LOG_PATH + MODEL_NAME_TCN))\n",
    "TENSORBOARD_LOG_PATH_GRU = ((os.getcwd() + LOG_PATH + MODEL_NAME_GRU))\n",
    "TENSORBOARD_LOG_PATH_NBEATS = ((os.getcwd() + LOG_PATH + MODEL_NAME_NBEATS))\n",
    "TENSORBOARD_LOG_PATH_TFT = ((os.getcwd() + LOG_PATH + MODEL_NAME_TFT))\n",
    "\n",
    "#Deep Neural Network parameters:\n",
    "#RANDOM_STATE=31\n",
    "INPUT_CHUNK_LENGTH = 48 #periods = hours\n",
    "OUTPUT_CHUNK_LENGTH = 1\n",
    "FORECAST_HORIZON = 1 #periods = hours\n",
    "HIST_FOR_TIME_START = '2021-11-07T11:00:00' #must be minimum (FORECAST_HORIZON +1) periods ahead of the test start series\n",
    "\n",
    "N_EPOCHS_RNN=100\n",
    "N_EPOCHS_LSTM=100\n",
    "N_EPOCHS_TCN=100\n",
    "N_EPOCHS_GRU=100\n",
    "N_EPOCHS_NBEATS=100\n",
    "N_EPOCHS_TFT=100"
   ]
  },
  {
   "cell_type": "code",
   "execution_count": 5,
   "id": "0d7d3729",
   "metadata": {
    "ExecuteTime": {
     "end_time": "2022-02-14T19:41:52.322524Z",
     "start_time": "2022-02-14T19:41:49.600613Z"
    }
   },
   "outputs": [
    {
     "name": "stderr",
     "output_type": "stream",
     "text": [
      "Importing plotly failed. Interactive plots will not work.\n"
     ]
    }
   ],
   "source": [
    "import numpy as np\n",
    "import pandas as pd\n",
    "import random\n",
    "from tqdm import tqdm_notebook as tqdm\n",
    "\n",
    "\n",
    "import matplotlib.pyplot as plt\n",
    "import torch\n",
    "\n",
    "from darts import TimeSeries, concatenate\n",
    "from darts.dataprocessing.transformers import Scaler\n",
    "from darts.models import TFTModel, RNNModel, TCNModel, BlockRNNModel, NBEATSModel, ARIMA, Prophet\n",
    "from darts.metrics import mape, rmse, r2_score, mae, mse\n",
    "\n",
    "import warnings\n",
    "warnings.filterwarnings(\"ignore\")\n",
    "\n",
    "import logging\n",
    "logging.disable(logging.CRITICAL)\n",
    "\n",
    "%matplotlib inline"
   ]
  },
  {
   "cell_type": "code",
   "execution_count": 6,
   "id": "ae43af4b",
   "metadata": {
    "scrolled": true
   },
   "outputs": [
    {
     "name": "stdout",
     "output_type": "stream",
     "text": [
      "psutil==5.8.0\n",
      "GPUtil==1.4.0\n",
      "platform==1.0.8\n",
      "numpy==1.21.5\n",
      "pandas==1.3.4\n",
      "torch==1.10.2\n",
      "logging==0.5.1.2\n"
     ]
    }
   ],
   "source": [
    "#DARTS version 0.17.1\n",
    "print('\\n'.join(f'{m.__name__}=={m.__version__}' for m in globals().values() if getattr(m, '__version__', None)))"
   ]
  },
  {
   "cell_type": "code",
   "execution_count": 7,
   "id": "0f4d448c",
   "metadata": {},
   "outputs": [],
   "source": [
    "#CONSTANT VALUE TEST TIMESERIES\n",
    "\n",
    "# np.random.seed(NUMPY_RANDOM_SEED)\n",
    "# series_constant = tg.constant_timeseries(\n",
    "#     value=1.0,\n",
    "#     start=pd.to_datetime(TS_START_DATETIME),\n",
    "#     end=pd.to_datetime(TS_END_DATETIME),\n",
    "# #   length=TS_LENGTH,\n",
    "#     freq=TS_FREQUENCY,\n",
    "#     column_name='c',\n",
    "#     )"
   ]
  },
  {
   "cell_type": "code",
   "execution_count": 8,
   "id": "8a8b76d7",
   "metadata": {},
   "outputs": [],
   "source": [
    "# #RANDOM WALK TEST TIMESERIES - Creates a random walk univariate TimeSeries, where each step is obtained by sampling a\n",
    "# #gaussian distribution with mean mean and standard deviation std.\n",
    "\n",
    "# np.random.seed(NUMPY_RANDOM_SEED)\n",
    "# series_random_walk = tg.random_walk_timeseries(\n",
    "#     mean=0.0,\n",
    "#     std=1.0,\n",
    "#     start=pd.to_datetime(TS_START_DATETIME),\n",
    "#     end=pd.to_datetime(TS_END_DATETIME),\n",
    "# #   length=TS_LENGTH,\n",
    "#     freq=TS_FREQUENCY,\n",
    "#     column_name='c',\n",
    "#     )"
   ]
  },
  {
   "cell_type": "code",
   "execution_count": 9,
   "id": "4955ec82",
   "metadata": {
    "ExecuteTime": {
     "end_time": "2022-02-14T19:41:52.485941Z",
     "start_time": "2022-02-14T19:41:52.325152Z"
    }
   },
   "outputs": [],
   "source": [
    "df = pd.read_csv(r\"C:\\Users\\User\\Downloads\\2-price-ohlc-eth-1h-shift_021.csv\", parse_dates=[\"timestamp\"])\n",
    "df['timestamp'] = pd.to_datetime(df.timestamp).dt.tz_localize(None)\n",
    "nof_missing_values_o = sum(np.isnan(df['o']))\n",
    "nof_missing_values_h = sum(np.isnan(df['h']))\n",
    "nof_missing_values_l = sum(np.isnan(df['l']))\n",
    "nof_missing_values_c = sum(np.isnan(df['c']))\n",
    "\n",
    "df = df.fillna(method=\"backfill\")\n",
    "nof_missing_values = sum(np.isnan(df['o']))\n",
    "\n",
    "df = df.fillna(method=\"backfill\")\n",
    "nof_missing_values = sum(np.isnan(df['h']))\n",
    "\n",
    "df = df.fillna(method=\"backfill\")\n",
    "nof_missing_values = sum(np.isnan(df['l']))\n",
    "\n",
    "df = df.fillna(method=\"backfill\")\n",
    "nof_missing_values = sum(np.isnan(df['c']))\n",
    "\n",
    "train_index = int(len(df)*train_size)\n",
    "\n",
    "df_train = df[0:train_index]\n",
    "df_rem = df[train_index:]\n",
    "\n",
    "valid_index = int(len(df)*valid_size)\n",
    "\n",
    "df_val = df[train_index:train_index+valid_index]\n",
    "df_test = df[train_index+valid_index:]\n",
    "\n",
    "series = TimeSeries.from_dataframe(df, time_col='timestamp', value_cols=['c']).astype(np.float32)\n",
    "series_covariates = TimeSeries.from_dataframe(df, time_col='timestamp', value_cols=['h','l','o']).astype(np.float32)\n",
    "train = TimeSeries.from_dataframe(df_train, time_col='timestamp', value_cols=['c']).astype(np.float32)\n",
    "train_covariates = TimeSeries.from_dataframe(df_train, time_col='timestamp', value_cols=['h','l','o']).astype(np.float32)\n",
    "val = TimeSeries.from_dataframe(df_val, time_col='timestamp', value_cols=['c']).astype(np.float32)\n",
    "val_covariates = TimeSeries.from_dataframe(df_val, time_col='timestamp', value_cols=['h','l','o']).astype(np.float32)\n",
    "test = TimeSeries.from_dataframe(df_test, time_col='timestamp', value_cols=['c']).astype(np.float32)\n",
    "test_covariates = TimeSeries.from_dataframe(df_test, time_col='timestamp', value_cols=['h','l','o']).astype(np.float32)"
   ]
  },
  {
   "cell_type": "code",
   "execution_count": 10,
   "id": "97a5d71e",
   "metadata": {
    "scrolled": true
   },
   "outputs": [],
   "source": [
    "# from darts.utils.statistics import check_seasonality, plot_acf\n",
    "\n",
    "# print('Seasonality: ',check_seasonality(series, max_lag=(len(series)-1)))\n",
    "# plot_acf(series, 1, max_lag=(len(series)-1))"
   ]
  },
  {
   "cell_type": "code",
   "execution_count": 11,
   "id": "8f01cee2",
   "metadata": {
    "ExecuteTime": {
     "end_time": "2022-02-14T19:41:53.210675Z",
     "start_time": "2022-02-14T19:41:53.145941Z"
    }
   },
   "outputs": [],
   "source": [
    "transformer = Scaler()\n",
    "train_transformed = transformer.fit_transform(train)\n",
    "val_transformed = transformer.transform(val)\n",
    "test_transformed = transformer.transform(test)\n",
    "train_covariates_transformed = transformer.fit_transform(train_covariates)\n",
    "val_covariates_transformed = transformer.transform(val_covariates)\n",
    "test_covariates_transformed = transformer.transform(test_covariates)"
   ]
  },
  {
   "cell_type": "code",
   "execution_count": 12,
   "id": "b0050bb4",
   "metadata": {},
   "outputs": [
    {
     "data": {
      "text/plain": [
       "Text(0.5, 1.0, 'Conjunto de Dados Ethereum - Treinamento, Validacao e Teste')"
      ]
     },
     "execution_count": 12,
     "metadata": {},
     "output_type": "execute_result"
    },
    {
     "data": {
      "image/png": "[encoded data removed]",
      "text/plain": [
       "<Figure size 432x288 with 1 Axes>"
      ]
     },
     "metadata": {
      "needs_background": "light"
     },
     "output_type": "display_data"
    }
   ],
   "source": [
    "train.plot(label=\"Conjunto de Treinamento\")\n",
    "val.plot(label=\"Conjunto de Validacao\")\n",
    "test.plot(label=\"Conjunto de Teste\")\n",
    "plt.legend(\n",
    "           borderpad=2,\n",
    "           labelspacing=1.0,\n",
    "           title_fontsize='large',\n",
    "           shadow=False,\n",
    "           frameon=False,\n",
    "           loc='best'  \n",
    "          )\n",
    "plt.ylabel('Valor de Fechamento (ETH) em USD')\n",
    "plt.title('Conjunto de Dados Ethereum - Treinamento, Validacao e Teste',fontsize=13)"
   ]
  },
  {
   "cell_type": "code",
   "execution_count": 13,
   "id": "5e1cb98d",
   "metadata": {},
   "outputs": [
    {
     "name": "stdout",
     "output_type": "stream",
     "text": [
      "========================================================================\n",
      "Dataset type  -      Start time    -      End time     -Samples - %split\n",
      "------------------------------------------------------------------------\n",
      "Full dataset:  2020-01-21 00:00:00  2022-02-27 18:00:00  18451      100\n",
      "Train set:     2020-01-21 00:00:00  2021-07-12 02:00:00  12915       70\n",
      "Validate set:  2021-07-12 03:00:00  2021-11-04 09:00:00   2767       15\n",
      "Test set:      2021-11-04 10:00:00  2022-02-27 18:00:00   2769       15\n",
      "========================================================================\n"
     ]
    }
   ],
   "source": [
    "print(\"=\"*72)\n",
    "print('Dataset type',' -      Start time    -', '     End time','    -Samples', '- %split')\n",
    "print(\"-\"*72)\n",
    "print('Full dataset: ', series.start_time(),'', series.end_time(),'', len(series),'     {:.0f}'.format((len(series)/len(series)*100)))\n",
    "print('Train set:    ', train.start_time(),'', train.end_time(),'', len(train),'      {:.0f}'.format((len(train)/len(series)*100)))\n",
    "print('Validate set: ', val.start_time(),'', val.end_time(),' ', len(val),'      {:.0f}'.format((len(val)/len(series)*100)))\n",
    "print('Test set:     ', test.start_time(),'', test.end_time(),' ', len(test),'      {:.0f}'.format((len(test)/len(series)*100)))\n",
    "print(\"=\"*72)"
   ]
  },
  {
   "cell_type": "code",
   "execution_count": 14,
   "id": "e8f7344a",
   "metadata": {
    "scrolled": true
   },
   "outputs": [
    {
     "name": "stdout",
     "output_type": "stream",
     "text": [
      "3.0458126068115234 seconds\n"
     ]
    }
   ],
   "source": [
    "tic_prep = time.time()\n",
    "prep_elapsed_time = tic_prep - start\n",
    "print(prep_elapsed_time,'seconds')"
   ]
  },
  {
   "cell_type": "code",
   "execution_count": 15,
   "id": "4ac1fd5b",
   "metadata": {
    "scrolled": true
   },
   "outputs": [
    {
     "name": "stdout",
     "output_type": "stream",
     "text": [
      "0; 0.00005002 0.00494551; 0.00707283; 0.99819554; 0.61676875; 524.98464942 96.03528571\n",
      "1; 0.00005767 0.00543619; 0.00759380; 0.99787484; 0.66805105; 521.56876349 97.49872255\n",
      "2; 0.00004974 0.00491583; 0.00705249; 0.99820965; 0.61482666; 521.41381097 96.13123584\n",
      "3; 0.00005370 0.00525733; 0.00732824; 0.99804361; 0.66281878; 521.50965333 96.58326960\n",
      "4; 0.00005079 0.00499331; 0.00712637; 0.99816340; 0.62319939; 521.77323890 116.04449821\n",
      "5; 0.00005283 0.00510195; 0.00726828; 0.99807776; 0.63142586; 521.66607809 97.02765059\n",
      "6; 0.00005438 0.00520467; 0.00737432; 0.99801913; 0.64134276; 522.01890731 97.71122718\n",
      "7; 0.00005343 0.00516347; 0.00730938; 0.99805718; 0.64039775; 521.11738610 97.94078135\n",
      "8; 0.00005198 0.00504378; 0.00720956; 0.99812580; 0.62753665; 522.91935754 98.22229743\n",
      "9; 0.00005086 0.00498369; 0.00713146; 0.99816133; 0.61996263; 520.94189644 97.67538857\n",
      "10; 0.00005163 0.00505153; 0.00718556; 0.99812896; 0.62698526; 520.83708143 96.81056595\n",
      "11; 0.00005077 0.00500237; 0.00712559; 0.99816674; 0.62282989; 521.44478273 97.14816856\n",
      "12; 0.00005249 0.00508991; 0.00724512; 0.99811303; 0.63502002; 521.60778284 97.60798621\n",
      "13; 0.00005113 0.00502770; 0.00715056; 0.99815719; 0.62715677; 521.85394502 96.90669250\n",
      "14; 0.00005723 0.00534990; 0.00756529; 0.99790548; 0.65683541; 521.54237652 97.10213971\n",
      "15; 0.00005343 0.00518478; 0.00730977; 0.99804534; 0.64227050; 521.71788740 97.41513181\n",
      "16; 0.00005404 0.00516839; 0.00735112; 0.99803435; 0.63875057; 521.60008907 97.67180133\n",
      "17; 0.00005200 0.00502921; 0.00721081; 0.99814486; 0.62676491; 523.63864231 96.81152868\n",
      "18; 0.00005206 0.00508375; 0.00721522; 0.99810536; 0.63062175; 521.57528734 97.25121951\n",
      "19; 0.00005012 0.00494323; 0.00707964; 0.99819104; 0.61684805; 522.23739958 97.22155404\n",
      "20; 0.00005295 0.00514180; 0.00727638; 0.99808097; 0.63680327; 522.08301210 97.52387476\n",
      "21; 0.00004875 0.00484530; 0.00698226; 0.99825237; 0.60666674; 522.23140073 97.54376721\n",
      "22; 0.00005492 0.00521199; 0.00741063; 0.99800976; 0.64272508; 522.31492043 97.93984985\n",
      "23; 0.00005167 0.00502132; 0.00718796; 0.99813548; 0.62475773; 522.60356069 98.53136516\n",
      "24; 0.00005442 0.00526549; 0.00737709; 0.99803429; 0.66128834; 522.23141360 98.15001297\n",
      "25; 0.00005306 0.00515900; 0.00728451; 0.99807315; 0.63764118; 522.28074980 96.86403680\n",
      "26; 0.00005212 0.00503746; 0.00721969; 0.99812979; 0.62591196; 522.62961698 97.18399811\n",
      "27; 0.00005276 0.00510795; 0.00726362; 0.99808277; 0.63724448; 522.23520446 109.10682130\n",
      "28; 0.00005843 0.00547008; 0.00764382; 0.99784770; 0.66962242; 522.43018818 97.93064952\n",
      "29; 0.00005348 0.00513830; 0.00731325; 0.99805742; 0.63473759; 522.78569007 96.61097264\n",
      "30; 0.00005166 0.00504208; 0.00718717; 0.99812807; 0.62762289; 522.33581519 97.39287639\n",
      "31; 0.00005440 0.00527335; 0.00737544; 0.99801276; 0.66090170; 524.26060057 96.64716816\n"
     ]
    }
   ],
   "source": [
    "for i in range (32):\n",
    "    tic_ann_begin = time.time()\n",
    "\n",
    "    \n",
    "    gru_model = BlockRNNModel(\n",
    "    model=\"GRU\",\n",
    "    hidden_size=24,\n",
    "    n_rnn_layers=1,\n",
    "    dropout=0.1,\n",
    "    batch_size=16,\n",
    "    n_epochs=N_EPOCHS_GRU,\n",
    "    optimizer_kwargs={\"lr\": 1e-3},\n",
    "    model_name=MODEL_NAME_GRU,\n",
    "    log_tensorboard=True,\n",
    "    random_state=i,\n",
    "    output_chunk_length=FORECAST_HORIZON,        \n",
    "    input_chunk_length=INPUT_CHUNK_LENGTH,\n",
    "    loss_fn=torch.nn.MSELoss(),\n",
    "    optimizer_cls=torch.optim.Adam,\n",
    "    force_reset=True,\n",
    "    save_checkpoints=True,\n",
    "    pl_trainer_kwargs={\n",
    "          'accelerator': 'gpu', 'gpus': [0],\n",
    "          'progress_bar_refresh_rate': False,\n",
    "          'enable_model_summary': False,\n",
    "       },\n",
    "    )\n",
    "\n",
    "    gru_model.fit(\n",
    "        series=train_transformed,\n",
    "        val_series=val_transformed,\n",
    "        verbose=False,\n",
    "    )\n",
    "\n",
    "    best_gru_model = BlockRNNModel.load_from_checkpoint(model_name=MODEL_NAME_GRU, best=True)\n",
    "    \n",
    "    tic_ann_end = time.time()\n",
    "    ann_elapsed_time = tic_ann_end - tic_ann_begin\n",
    "\n",
    "    \n",
    "    backtest_series_gru = best_gru_model.historical_forecasts(\n",
    "    series=test_transformed,\n",
    "    start=pd.Timestamp(HIST_FOR_TIME_START),\n",
    "    forecast_horizon=FORECAST_HORIZON,\n",
    "    stride=1,\n",
    "    retrain=False,\n",
    "    verbose=False,\n",
    "    )\n",
    "\n",
    "\n",
    "    tic_ann_backtest_end = time.time()\n",
    "    ann_backtest_elapsed_time= tic_ann_backtest_end - tic_ann_end\n",
    "\n",
    "\n",
    "    print(\n",
    "      \"{:.0f};\".format(i),\n",
    "      \"{:.8f}\".format(mse(backtest_series_gru, test_transformed)),\n",
    "      \"{:.8f};\".format(mae(backtest_series_gru, test_transformed)),\n",
    "      \"{:.8f};\".format(rmse(backtest_series_gru, test_transformed)),\n",
    "      \"{:.8f};\".format(r2_score(backtest_series_gru, test_transformed)),\n",
    "      \"{:.8f};\".format(mape(backtest_series_gru, test_transformed)),\n",
    "      \"{:.8f}\".format(ann_elapsed_time),\n",
    "      \"{:.8f}\".format(ann_backtest_elapsed_time)\n",
    "    )\n",
    "    \n",
    "    arquivo = open('8v1_ETH-EPOCHS_100-48-1-16-GRU_shift021.txt', 'a')\n",
    "    print(\"{:.0f};\".format(i),\n",
    "    \"{:.8f};\".format(mse(backtest_series_gru, test_transformed)),\n",
    "    \"{:.8f};\".format(mae(backtest_series_gru, test_transformed)),\n",
    "    \"{:.8f};\".format(rmse(backtest_series_gru, test_transformed)),\n",
    "    \"{:.8f};\".format(r2_score(backtest_series_gru, test_transformed)),\n",
    "    \"{:.8f};\".format(mape(backtest_series_gru, test_transformed)),\n",
    "    \"{:.8f}\".format(ann_elapsed_time),\n",
    "    \"{:.8f}\".format(ann_backtest_elapsed_time), file=arquivo) \n",
    "    arquivo.close()"
   ]
  }
 ],
 "metadata": {
  "kernelspec": {
   "display_name": "Python 3 (ipykernel)",
   "language": "python",
   "name": "python3"
  },
  "language_info": {
   "codemirror_mode": {
    "name": "ipython",
    "version": 3
   },
   "file_extension": ".py",
   "mimetype": "text/x-python",
   "name": "python",
   "nbconvert_exporter": "python",
   "pygments_lexer": "ipython3",
   "version": "3.7.11"
  }
 },
 "nbformat": 4,
 "nbformat_minor": 5
}

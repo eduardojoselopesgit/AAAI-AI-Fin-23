{
 "cells": [
  {
   "cell_type": "code",
   "execution_count": 1,
   "id": "63a3f783",
   "metadata": {
    "ExecuteTime": {
     "end_time": "2022-02-14T19:41:49.589505Z",
     "start_time": "2022-02-14T19:41:49.462706Z"
    },
    "scrolled": false
   },
   "outputs": [
    {
     "data": {
      "application/javascript": [
       "IPython.notebook.set_autosave_interval(0)"
      ]
     },
     "metadata": {},
     "output_type": "display_data"
    },
    {
     "name": "stdout",
     "output_type": "stream",
     "text": [
      "Autosave disabled\n",
      "Python 3.7.11\n"
     ]
    }
   ],
   "source": [
    "%autosave 0\n",
    "!python -V"
   ]
  },
  {
   "cell_type": "code",
   "execution_count": 2,
   "id": "d3f81ace",
   "metadata": {},
   "outputs": [],
   "source": [
    "# Uncomment to install required packages\n",
    "#!conda install -c conda-forge -c pytorch u8darts-all ipywidgets psutil gputil tabulate tensorflow -y"
   ]
  },
  {
   "cell_type": "code",
   "execution_count": 3,
   "id": "1f2ef1aa",
   "metadata": {
    "scrolled": true
   },
   "outputs": [
    {
     "name": "stdout",
     "output_type": "stream",
     "text": [
      "========================================================================================================================\n",
      "------------------------------------------------ Uptime Information ----------------------------------------------------\n",
      "Last boot:     2022-06-05 10:43:30.877927\n",
      "Current time:  2022-06-05 11:16:52.877926\n",
      "Current time:  01d 00h 33m\n",
      "------------------------------------------------ System Information ----------------------------------------------------\n",
      "System: Windows\n",
      "Version: 10.0.19041\n",
      "Machine: AMD64\n",
      "------------------------------------------------ Hardware Information --------------------------------------------------\n",
      "Processor: Intel64 Family 6 Model 165 Stepping 5, GenuineIntel\n",
      "Physical cores: 10  - Total cores: 20\n",
      "Max Frequency: 3696Mhz  - Current Frequency: 3696Mhz\n",
      "Total memory (GB):34\n",
      "------------------------------------------------ GPU Information -------------------------------------------------------\n",
      "  id  name                     load    free memory    used memory    total memory\n",
      "----  -----------------------  ------  -------------  -------------  --------------\n",
      "   0  NVIDIA GeForce RTX 3090  2.0%    24028.0MB      548.0MB        24576.0MB\n",
      "========================================================================================================================\n"
     ]
    }
   ],
   "source": [
    "import os\n",
    "import time\n",
    "import psutil\n",
    "import GPUtil\n",
    "import platform\n",
    "import tabulate\n",
    "import datetime\n",
    "\n",
    "from tabulate import tabulate\n",
    "\n",
    "print(\"=\"*120)\n",
    "print(\"-\"*48, \"Uptime Information\", \"-\"*52)\n",
    "print(f\"Last boot:    \", datetime.datetime.fromtimestamp(psutil.boot_time()))\n",
    "print(f\"Current time: \", datetime.datetime.now())\n",
    "uptimeSeconds = time.time() - psutil.boot_time()\n",
    "uptime = time.strftime('%dd %Hh %Mm', time.gmtime(uptimeSeconds))\n",
    "print(f\"Current time: \", uptime)\n",
    "#print(f\"Uptime: \", uptime)\n",
    "print(\"-\"*48, \"System Information\", \"-\"*52)\n",
    "uname = platform.uname()\n",
    "print(f\"System: {uname.system}\")\n",
    "print(f\"Version: {uname.version}\")\n",
    "print(f\"Machine: {uname.machine}\")\n",
    "print(\"-\"*48, \"Hardware Information\", \"-\"*50)\n",
    "print(f\"Processor: {uname.processor}\")\n",
    "print(\"Physical cores:\", psutil.cpu_count(logical=False), \" - Total cores:\", psutil.cpu_count(logical=True))\n",
    "cpufreq = psutil.cpu_freq()\n",
    "print(f\"Max Frequency: {cpufreq.max:.0f}Mhz\", f\" - Current Frequency: {cpufreq.current:.0f}Mhz\")\n",
    "svmem = psutil.virtual_memory()\n",
    "print(\"Total memory (GB):{:.0f}\".format(svmem.total/1e9))\n",
    "print(\"-\"*48, \"GPU Information\", \"-\"*55)\n",
    "gpus = GPUtil.getGPUs()\n",
    "list_gpus = []\n",
    "for gpu in gpus:\n",
    "    gpu_id = gpu.id\n",
    "    gpu_name = gpu.name\n",
    "    gpu_load = f\"{gpu.load*100}%\"\n",
    "    gpu_free_memory = f\"{gpu.memoryFree}MB\"\n",
    "    gpu_used_memory = f\"{gpu.memoryUsed}MB\"\n",
    "    gpu_total_memory = f\"{gpu.memoryTotal}MB\"\n",
    "    gpu_temperature = f\"{gpu.temperature} °C\"\n",
    "    gpu_uuid = gpu.uuid\n",
    "    list_gpus.append((\n",
    "        gpu_id, gpu_name, gpu_load, gpu_free_memory, gpu_used_memory,\n",
    "        gpu_total_memory\n",
    "    ))\n",
    "\n",
    "print(tabulate(list_gpus, headers=(\"id\", \"name\", \"load\", \"free memory\", \"used memory\", \"total memory\",\n",
    "                                   \"temperature\", \"uuid\")))\n",
    "print(\"=\"*120)"
   ]
  },
  {
   "cell_type": "code",
   "execution_count": 4,
   "id": "a633a05f",
   "metadata": {
    "ExecuteTime": {
     "end_time": "2022-02-14T19:41:49.598453Z",
     "start_time": "2022-02-14T19:41:49.593059Z"
    }
   },
   "outputs": [],
   "source": [
    "import time\n",
    "start = time.time()\n",
    "\n",
    "#Common module parameters:\n",
    "NUMPY_RANDOM_SEED=10\n",
    "figsize = (9, 6)\n",
    "\n",
    "#Train validate test split (70%/15%/15%). Test split is inferred from test and validate values.\n",
    "train_size = 0.70\n",
    "valid_size=0.15\n",
    "\n",
    "\n",
    "LAZY_WALK_LAG=1 # # of periods (hours) to compute metrics for a lazy walk baseline scenario.\n",
    "\n",
    "MODEL_NAME_RNN='2v1_ALLDNNs-EPOCHS_1000-48-2-BASE_c1'\n",
    "MODEL_NAME_LSTM='2v1_ALLDNNs-EPOCHS_100-48-2-BASE_c2'\n",
    "MODEL_NAME_TCN='2v1_ALLDNNs-EPOCHS_100-48-2-BASE_c3'\n",
    "MODEL_NAME_GRU='2v1_ALLDNNs-EPOCHS_100-48-2-BASE_c4'\n",
    "MODEL_NAME_NBEATS='2v1_ALLDNNs-EPOCHS_100-48-2-BASE_c5'\n",
    "MODEL_NAME_TFT='2v1_ALLDNNs-EPOCHS_100-48-2-BASE_c6'\n",
    "\n",
    "# FOR MACOS \"/darts_logs/\" OR \"\\\\darts_logs\\\\\" FOR WIN - CHOOSE ACCORDINGLY:\n",
    "LOG_PATH=\"/darts_logs/\" \n",
    "TENSORBOARD_LOG_PATH_RNN = ((os.getcwd() + LOG_PATH + MODEL_NAME_RNN))\n",
    "TENSORBOARD_LOG_PATH_LSTM = ((os.getcwd() + LOG_PATH + MODEL_NAME_LSTM))\n",
    "TENSORBOARD_LOG_PATH_TCN = ((os.getcwd() + LOG_PATH + MODEL_NAME_TCN))\n",
    "TENSORBOARD_LOG_PATH_GRU = ((os.getcwd() + LOG_PATH + MODEL_NAME_GRU))\n",
    "TENSORBOARD_LOG_PATH_NBEATS = ((os.getcwd() + LOG_PATH + MODEL_NAME_NBEATS))\n",
    "TENSORBOARD_LOG_PATH_TFT = ((os.getcwd() + LOG_PATH + MODEL_NAME_TFT))\n",
    "\n",
    "#Deep Neural Network parameters:\n",
    "#RANDOM_STATE=31\n",
    "INPUT_CHUNK_LENGTH = 48 #periods = hours\n",
    "OUTPUT_CHUNK_LENGTH = 1\n",
    "FORECAST_HORIZON = 1 #periods = hours\n",
    "HIST_FOR_TIME_START = '2021-11-14T11:00:00' #must be minimum (FORECAST_HORIZON +1) periods ahead of the test start series\n",
    "\n",
    "N_EPOCHS_RNN=100\n",
    "N_EPOCHS_LSTM=100\n",
    "N_EPOCHS_TCN=100\n",
    "N_EPOCHS_GRU=100\n",
    "N_EPOCHS_NBEATS=100\n",
    "N_EPOCHS_TFT=100"
   ]
  },
  {
   "cell_type": "code",
   "execution_count": 5,
   "id": "0d7d3729",
   "metadata": {
    "ExecuteTime": {
     "end_time": "2022-02-14T19:41:52.322524Z",
     "start_time": "2022-02-14T19:41:49.600613Z"
    }
   },
   "outputs": [
    {
     "name": "stderr",
     "output_type": "stream",
     "text": [
      "Importing plotly failed. Interactive plots will not work.\n"
     ]
    }
   ],
   "source": [
    "import numpy as np\n",
    "import pandas as pd\n",
    "import random\n",
    "from tqdm import tqdm_notebook as tqdm\n",
    "\n",
    "\n",
    "import matplotlib.pyplot as plt\n",
    "import torch\n",
    "\n",
    "from darts import TimeSeries, concatenate\n",
    "from darts.dataprocessing.transformers import Scaler\n",
    "from darts.models import TFTModel, RNNModel, TCNModel, BlockRNNModel, NBEATSModel, ARIMA, Prophet\n",
    "from darts.metrics import mape, rmse, r2_score, mae, mse\n",
    "\n",
    "import warnings\n",
    "warnings.filterwarnings(\"ignore\")\n",
    "\n",
    "import logging\n",
    "logging.disable(logging.CRITICAL)\n",
    "\n",
    "%matplotlib inline"
   ]
  },
  {
   "cell_type": "code",
   "execution_count": 6,
   "id": "ae43af4b",
   "metadata": {
    "scrolled": true
   },
   "outputs": [
    {
     "name": "stdout",
     "output_type": "stream",
     "text": [
      "psutil==5.8.0\n",
      "GPUtil==1.4.0\n",
      "platform==1.0.8\n",
      "numpy==1.21.5\n",
      "pandas==1.3.4\n",
      "torch==1.10.2\n",
      "logging==0.5.1.2\n"
     ]
    }
   ],
   "source": [
    "#DARTS version 0.17.1\n",
    "print('\\n'.join(f'{m.__name__}=={m.__version__}' for m in globals().values() if getattr(m, '__version__', None)))"
   ]
  },
  {
   "cell_type": "code",
   "execution_count": 7,
   "id": "0f4d448c",
   "metadata": {},
   "outputs": [],
   "source": [
    "#CONSTANT VALUE TEST TIMESERIES\n",
    "\n",
    "# np.random.seed(NUMPY_RANDOM_SEED)\n",
    "# series_constant = tg.constant_timeseries(\n",
    "#     value=1.0,\n",
    "#     start=pd.to_datetime(TS_START_DATETIME),\n",
    "#     end=pd.to_datetime(TS_END_DATETIME),\n",
    "# #   length=TS_LENGTH,\n",
    "#     freq=TS_FREQUENCY,\n",
    "#     column_name='c',\n",
    "#     )"
   ]
  },
  {
   "cell_type": "code",
   "execution_count": 8,
   "id": "8a8b76d7",
   "metadata": {},
   "outputs": [],
   "source": [
    "# #RANDOM WALK TEST TIMESERIES - Creates a random walk univariate TimeSeries, where each step is obtained by sampling a\n",
    "# #gaussian distribution with mean mean and standard deviation std.\n",
    "\n",
    "# np.random.seed(NUMPY_RANDOM_SEED)\n",
    "# series_random_walk = tg.random_walk_timeseries(\n",
    "#     mean=0.0,\n",
    "#     std=1.0,\n",
    "#     start=pd.to_datetime(TS_START_DATETIME),\n",
    "#     end=pd.to_datetime(TS_END_DATETIME),\n",
    "# #   length=TS_LENGTH,\n",
    "#     freq=TS_FREQUENCY,\n",
    "#     column_name='c',\n",
    "#     )"
   ]
  },
  {
   "cell_type": "code",
   "execution_count": 9,
   "id": "4955ec82",
   "metadata": {
    "ExecuteTime": {
     "end_time": "2022-02-14T19:41:52.485941Z",
     "start_time": "2022-02-14T19:41:52.325152Z"
    }
   },
   "outputs": [],
   "source": [
    "df = pd.read_csv(r\"C:\\Users\\User\\Downloads\\2-price-ohlc-eth-1h-shift_028.csv\", parse_dates=[\"timestamp\"])\n",
    "df['timestamp'] = pd.to_datetime(df.timestamp).dt.tz_localize(None)\n",
    "nof_missing_values_o = sum(np.isnan(df['o']))\n",
    "nof_missing_values_h = sum(np.isnan(df['h']))\n",
    "nof_missing_values_l = sum(np.isnan(df['l']))\n",
    "nof_missing_values_c = sum(np.isnan(df['c']))\n",
    "\n",
    "df = df.fillna(method=\"backfill\")\n",
    "nof_missing_values = sum(np.isnan(df['o']))\n",
    "\n",
    "df = df.fillna(method=\"backfill\")\n",
    "nof_missing_values = sum(np.isnan(df['h']))\n",
    "\n",
    "df = df.fillna(method=\"backfill\")\n",
    "nof_missing_values = sum(np.isnan(df['l']))\n",
    "\n",
    "df = df.fillna(method=\"backfill\")\n",
    "nof_missing_values = sum(np.isnan(df['c']))\n",
    "\n",
    "train_index = int(len(df)*train_size)\n",
    "\n",
    "df_train = df[0:train_index]\n",
    "df_rem = df[train_index:]\n",
    "\n",
    "valid_index = int(len(df)*valid_size)\n",
    "\n",
    "df_val = df[train_index:train_index+valid_index]\n",
    "df_test = df[train_index+valid_index:]\n",
    "\n",
    "series = TimeSeries.from_dataframe(df, time_col='timestamp', value_cols=['c']).astype(np.float32)\n",
    "series_covariates = TimeSeries.from_dataframe(df, time_col='timestamp', value_cols=['h','l','o']).astype(np.float32)\n",
    "train = TimeSeries.from_dataframe(df_train, time_col='timestamp', value_cols=['c']).astype(np.float32)\n",
    "train_covariates = TimeSeries.from_dataframe(df_train, time_col='timestamp', value_cols=['h','l','o']).astype(np.float32)\n",
    "val = TimeSeries.from_dataframe(df_val, time_col='timestamp', value_cols=['c']).astype(np.float32)\n",
    "val_covariates = TimeSeries.from_dataframe(df_val, time_col='timestamp', value_cols=['h','l','o']).astype(np.float32)\n",
    "test = TimeSeries.from_dataframe(df_test, time_col='timestamp', value_cols=['c']).astype(np.float32)\n",
    "test_covariates = TimeSeries.from_dataframe(df_test, time_col='timestamp', value_cols=['h','l','o']).astype(np.float32)"
   ]
  },
  {
   "cell_type": "code",
   "execution_count": 10,
   "id": "97a5d71e",
   "metadata": {
    "scrolled": true
   },
   "outputs": [],
   "source": [
    "# from darts.utils.statistics import check_seasonality, plot_acf\n",
    "\n",
    "# print('Seasonality: ',check_seasonality(series, max_lag=(len(series)-1)))\n",
    "# plot_acf(series, 1, max_lag=(len(series)-1))"
   ]
  },
  {
   "cell_type": "code",
   "execution_count": 11,
   "id": "8f01cee2",
   "metadata": {
    "ExecuteTime": {
     "end_time": "2022-02-14T19:41:53.210675Z",
     "start_time": "2022-02-14T19:41:53.145941Z"
    }
   },
   "outputs": [],
   "source": [
    "transformer = Scaler()\n",
    "train_transformed = transformer.fit_transform(train)\n",
    "val_transformed = transformer.transform(val)\n",
    "test_transformed = transformer.transform(test)\n",
    "train_covariates_transformed = transformer.fit_transform(train_covariates)\n",
    "val_covariates_transformed = transformer.transform(val_covariates)\n",
    "test_covariates_transformed = transformer.transform(test_covariates)"
   ]
  },
  {
   "cell_type": "code",
   "execution_count": 12,
   "id": "b0050bb4",
   "metadata": {},
   "outputs": [
    {
     "data": {
      "text/plain": [
       "Text(0.5, 1.0, 'Conjunto de Dados Ethereum - Treinamento, Validacao e Teste')"
      ]
     },
     "execution_count": 12,
     "metadata": {},
     "output_type": "execute_result"
    },
    {
     "data": {
      "image/png": "[encoded data removed]",
      "text/plain": [
       "<Figure size 432x288 with 1 Axes>"
      ]
     },
     "metadata": {
      "needs_background": "light"
     },
     "output_type": "display_data"
    }
   ],
   "source": [
    "train.plot(label=\"Conjunto de Treinamento\")\n",
    "val.plot(label=\"Conjunto de Validacao\")\n",
    "test.plot(label=\"Conjunto de Teste\")\n",
    "plt.legend(\n",
    "           borderpad=2,\n",
    "           labelspacing=1.0,\n",
    "           title_fontsize='large',\n",
    "           shadow=False,\n",
    "           frameon=False,\n",
    "           loc='best'  \n",
    "          )\n",
    "plt.ylabel('Valor de Fechamento (ETH) em USD')\n",
    "plt.title('Conjunto de Dados Ethereum - Treinamento, Validacao e Teste',fontsize=13)"
   ]
  },
  {
   "cell_type": "code",
   "execution_count": 13,
   "id": "5e1cb98d",
   "metadata": {},
   "outputs": [
    {
     "name": "stdout",
     "output_type": "stream",
     "text": [
      "========================================================================\n",
      "Dataset type  -      Start time    -      End time     -Samples - %split\n",
      "------------------------------------------------------------------------\n",
      "Full dataset:  2020-01-29 00:00:00  2022-03-07 18:00:00  18451      100\n",
      "Train set:     2020-01-29 00:00:00  2021-07-20 02:00:00  12915       70\n",
      "Validate set:  2021-07-20 03:00:00  2021-11-12 09:00:00   2767       15\n",
      "Test set:      2021-11-12 10:00:00  2022-03-07 18:00:00   2769       15\n",
      "========================================================================\n"
     ]
    }
   ],
   "source": [
    "print(\"=\"*72)\n",
    "print('Dataset type',' -      Start time    -', '     End time','    -Samples', '- %split')\n",
    "print(\"-\"*72)\n",
    "print('Full dataset: ', series.start_time(),'', series.end_time(),'', len(series),'     {:.0f}'.format((len(series)/len(series)*100)))\n",
    "print('Train set:    ', train.start_time(),'', train.end_time(),'', len(train),'      {:.0f}'.format((len(train)/len(series)*100)))\n",
    "print('Validate set: ', val.start_time(),'', val.end_time(),' ', len(val),'      {:.0f}'.format((len(val)/len(series)*100)))\n",
    "print('Test set:     ', test.start_time(),'', test.end_time(),' ', len(test),'      {:.0f}'.format((len(test)/len(series)*100)))\n",
    "print(\"=\"*72)"
   ]
  },
  {
   "cell_type": "code",
   "execution_count": 14,
   "id": "e8f7344a",
   "metadata": {
    "scrolled": true
   },
   "outputs": [
    {
     "name": "stdout",
     "output_type": "stream",
     "text": [
      "3.0991663932800293 seconds\n"
     ]
    }
   ],
   "source": [
    "tic_prep = time.time()\n",
    "prep_elapsed_time = tic_prep - start\n",
    "print(prep_elapsed_time,'seconds')"
   ]
  },
  {
   "cell_type": "code",
   "execution_count": 15,
   "id": "4ac1fd5b",
   "metadata": {
    "scrolled": true
   },
   "outputs": [
    {
     "name": "stdout",
     "output_type": "stream",
     "text": [
      "0; 0.00004808 0.00475885; 0.00693418; 0.99808518; 0.61549433; 396.09602880\n",
      "1; 0.00004805 0.00475593; 0.00693151; 0.99808664; 0.61519435; 399.55697727\n",
      "2; 0.00004810 0.00476043; 0.00693577; 0.99808429; 0.61566220; 403.27778697\n",
      "3; 0.00004812 0.00476128; 0.00693696; 0.99808315; 0.61571253; 405.23319626\n",
      "4; 0.00004808 0.00475872; 0.00693425; 0.99808512; 0.61547994; 403.98812366\n",
      "5; 0.00004811 0.00475956; 0.00693585; 0.99808428; 0.61555752; 404.82885885\n",
      "6; 0.00004799 0.00475231; 0.00692740; 0.99808806; 0.61486089; 408.19063592\n",
      "7; 0.00004810 0.00475963; 0.00693529; 0.99808363; 0.61556646; 401.69266105\n",
      "8; 0.00004805 0.00475587; 0.00693145; 0.99808667; 0.61518825; 405.33493304\n",
      "9; 0.00004804 0.00475559; 0.00693119; 0.99808682; 0.61516101; 405.76232719\n",
      "10; 0.00004804 0.00475571; 0.00693130; 0.99808676; 0.61517237; 402.14366841\n",
      "11; 0.00004807 0.00475741; 0.00693293; 0.99808586; 0.61534354; 403.95120001\n",
      "12; 0.00004798 0.00475050; 0.00692699; 0.99808969; 0.61467737; 404.42502093\n",
      "13; 0.00004788 0.00475404; 0.00691985; 0.99809082; 0.61511924; 404.49818444\n",
      "14; 0.00004800 0.00475249; 0.00692837; 0.99808838; 0.61485860; 401.23833752\n",
      "15; 0.00004806 0.00475488; 0.00693218; 0.99808587; 0.61510182; 422.05267739\n",
      "16; 0.00004810 0.00476020; 0.00693555; 0.99808441; 0.61563742; 404.51412320\n",
      "17; 0.00004803 0.00475509; 0.00693071; 0.99808708; 0.61511216; 403.41438174\n",
      "18; 0.00004803 0.00475482; 0.00693045; 0.99808722; 0.61508529; 406.75734591\n",
      "19; 0.00004808 0.00475882; 0.00693426; 0.99808513; 0.61549032; 404.58098936\n",
      "20; 0.00004813 0.00476264; 0.00693791; 0.99808310; 0.61589992; 408.08534813\n",
      "21; 0.00004803 0.00475493; 0.00693055; 0.99808717; 0.61509572; 402.62897038\n",
      "22; 0.00004827 0.00477332; 0.00694767; 0.99807771; 0.61709802; 404.65232468\n",
      "23; 0.00004813 0.00475398; 0.00693752; 0.99808208; 0.61505535; 404.35605454\n",
      "24; 0.00004809 0.00475951; 0.00693490; 0.99808477; 0.61556394; 403.84549952\n",
      "25; 0.00004805 0.00475610; 0.00693168; 0.99808655; 0.61521088; 403.49747777\n",
      "26; 0.00004798 0.00475035; 0.00692655; 0.99808938; 0.61465353; 403.56127191\n",
      "27; 0.00004801 0.00475308; 0.00692887; 0.99808810; 0.61491588; 405.60561347\n",
      "28; 0.00004802 0.00475409; 0.00692978; 0.99808760; 0.61501390; 404.09170890\n",
      "29; 0.00004801 0.00475304; 0.00692884; 0.99808812; 0.61491169; 402.35387659\n",
      "30; 0.00004804 0.00475516; 0.00693078; 0.99808705; 0.61511910; 406.86036205\n",
      "31; 0.00004797 0.00474959; 0.00692593; 0.99808972; 0.61458158; 405.46327353\n"
     ]
    }
   ],
   "source": [
    "for i in range (32):\n",
    "    tic_ann_begin = time.time()\n",
    "\n",
    "    \n",
    "    tcn_model = TCNModel(\n",
    "    input_chunk_length=INPUT_CHUNK_LENGTH,\n",
    "    output_chunk_length=FORECAST_HORIZON,\n",
    "    kernel_size=5,\n",
    "    num_filters=3,\n",
    "    weight_norm=True,\n",
    "    dilation_base=2,\n",
    "    num_layers=1,\n",
    "    dropout=0.1,\n",
    "    loss_fn=torch.nn.MSELoss(),\n",
    "    optimizer_cls=torch.optim.Adam,\n",
    "    optimizer_kwargs={\"lr\": 1e-3},\n",
    "    batch_size=16,    \n",
    "    n_epochs=N_EPOCHS_TCN,\n",
    "    model_name=MODEL_NAME_TCN,\n",
    "    log_tensorboard=True,\n",
    "    pl_trainer_kwargs={\n",
    "#         'accelerator': 'gpu', 'gpus': [0],\n",
    "          'progress_bar_refresh_rate': False,\n",
    "          'enable_model_summary': False,\n",
    "       },\n",
    "    force_reset=True,\n",
    "    save_checkpoints=True,\n",
    "    random_state=i,\n",
    "    )\n",
    "\n",
    "    tcn_model.fit(\n",
    "        series=train_transformed,\n",
    "        val_series=val_transformed,\n",
    "        verbose=False,\n",
    "    )\n",
    "    \n",
    "    \n",
    "    best_tcn_model = TCNModel.load_from_checkpoint(model_name=MODEL_NAME_TCN, best=True)\n",
    "    \n",
    "    backtest_series_tcn = best_tcn_model.historical_forecasts(\n",
    "    series=test_transformed,\n",
    "    start=pd.Timestamp(HIST_FOR_TIME_START),            \n",
    "    forecast_horizon=FORECAST_HORIZON,\n",
    "    stride=1,\n",
    "    retrain=False,\n",
    "    verbose=False,\n",
    "    )\n",
    "\n",
    "    tic_ann_end = time.time()\n",
    "    ann_elapsed_time = tic_ann_end - tic_ann_begin\n",
    "\n",
    "    print(\n",
    "      \"{:.0f};\".format(i),\n",
    "      \"{:.8f}\".format(mse(backtest_series_tcn, test_transformed)),\n",
    "      \"{:.8f};\".format(mae(backtest_series_tcn, test_transformed)),\n",
    "      \"{:.8f};\".format(rmse(backtest_series_tcn, test_transformed)),\n",
    "      \"{:.8f};\".format(r2_score(backtest_series_tcn, test_transformed)),\n",
    "      \"{:.8f};\".format(mape(backtest_series_tcn, test_transformed)),\n",
    "      \"{:.8f}\".format(ann_elapsed_time)\n",
    "    )\n",
    "    \n",
    "    arquivo = open('11v0_ETH-EPOCHS_100-48-1-16-TCN_shift028.txt', 'a')\n",
    "    print(\"{:.0f};\".format(i),\n",
    "    \"{:.8f};\".format(mse(backtest_series_tcn, test_transformed)),\n",
    "    \"{:.8f};\".format(mae(backtest_series_tcn, test_transformed)),\n",
    "    \"{:.8f};\".format(rmse(backtest_series_tcn, test_transformed)),\n",
    "    \"{:.8f};\".format(r2_score(backtest_series_tcn, test_transformed)),\n",
    "    \"{:.8f};\".format(mape(backtest_series_tcn, test_transformed)),\n",
    "    \"{:.8f}\".format(ann_elapsed_time), file=arquivo) \n",
    "    arquivo.close()"
   ]
  }
 ],
 "metadata": {
  "kernelspec": {
   "display_name": "Python 3 (ipykernel)",
   "language": "python",
   "name": "python3"
  },
  "language_info": {
   "codemirror_mode": {
    "name": "ipython",
    "version": 3
   },
   "file_extension": ".py",
   "mimetype": "text/x-python",
   "name": "python",
   "nbconvert_exporter": "python",
   "pygments_lexer": "ipython3",
   "version": "3.7.11"
  }
 },
 "nbformat": 4,
 "nbformat_minor": 5
}

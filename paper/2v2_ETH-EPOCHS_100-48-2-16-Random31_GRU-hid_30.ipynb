{
 "cells": [
  {
   "cell_type": "code",
   "execution_count": null,
   "id": "63a3f783",
   "metadata": {
    "ExecuteTime": {
     "end_time": "2022-02-14T19:41:49.589505Z",
     "start_time": "2022-02-14T19:41:49.462706Z"
    },
    "scrolled": false
   },
   "outputs": [],
   "source": [
    "!python -V"
   ]
  },
  {
   "cell_type": "code",
   "execution_count": null,
   "id": "d3f81ace",
   "metadata": {},
   "outputs": [],
   "source": [
    "# Uncomment to install required packages\n",
    "#!conda install -c conda-forge -c pytorch u8darts-all ipywidgets psutil gputil tabulate tensorflow -y"
   ]
  },
  {
   "cell_type": "code",
   "execution_count": null,
   "id": "1f2ef1aa",
   "metadata": {
    "scrolled": true
   },
   "outputs": [],
   "source": [
    "import os\n",
    "import time\n",
    "import psutil\n",
    "import GPUtil\n",
    "import platform\n",
    "import tabulate\n",
    "import datetime\n",
    "\n",
    "from tabulate import tabulate\n",
    "\n",
    "print(\"=\"*120)\n",
    "print(\"-\"*48, \"Uptime Information\", \"-\"*52)\n",
    "print(f\"Last boot:    \", datetime.datetime.fromtimestamp(psutil.boot_time()))\n",
    "print(f\"Current time: \", datetime.datetime.now())\n",
    "uptimeSeconds = time.time() - psutil.boot_time()\n",
    "uptime = time.strftime('%dd %Hh %Mm', time.gmtime(uptimeSeconds))\n",
    "print(f\"Current time: \", uptime)\n",
    "#print(f\"Uptime: \", uptime)\n",
    "print(\"-\"*48, \"System Information\", \"-\"*52)\n",
    "uname = platform.uname()\n",
    "print(f\"System: {uname.system}\")\n",
    "print(f\"Version: {uname.version}\")\n",
    "print(f\"Machine: {uname.machine}\")\n",
    "print(\"-\"*48, \"Hardware Information\", \"-\"*50)\n",
    "print(f\"Processor: {uname.processor}\")\n",
    "print(\"Physical cores:\", psutil.cpu_count(logical=False), \" - Total cores:\", psutil.cpu_count(logical=True))\n",
    "cpufreq = psutil.cpu_freq()\n",
    "print(f\"Max Frequency: {cpufreq.max:.0f}Mhz\", f\" - Current Frequency: {cpufreq.current:.0f}Mhz\")\n",
    "svmem = psutil.virtual_memory()\n",
    "print(\"Total memory (GB):{:.0f}\".format(svmem.total/1e9))\n",
    "print(\"-\"*48, \"GPU Information\", \"-\"*55)\n",
    "gpus = GPUtil.getGPUs()\n",
    "list_gpus = []\n",
    "for gpu in gpus:\n",
    "    gpu_id = gpu.id\n",
    "    gpu_name = gpu.name\n",
    "    gpu_load = f\"{gpu.load*100}%\"\n",
    "    gpu_free_memory = f\"{gpu.memoryFree}MB\"\n",
    "    gpu_used_memory = f\"{gpu.memoryUsed}MB\"\n",
    "    gpu_total_memory = f\"{gpu.memoryTotal}MB\"\n",
    "    gpu_temperature = f\"{gpu.temperature} °C\"\n",
    "    gpu_uuid = gpu.uuid\n",
    "    list_gpus.append((\n",
    "        gpu_id, gpu_name, gpu_load, gpu_free_memory, gpu_used_memory,\n",
    "        gpu_total_memory\n",
    "    ))\n",
    "\n",
    "print(tabulate(list_gpus, headers=(\"id\", \"name\", \"load\", \"free memory\", \"used memory\", \"total memory\",\n",
    "                                   \"temperature\", \"uuid\")))\n",
    "print(\"=\"*120)"
   ]
  },
  {
   "cell_type": "code",
   "execution_count": null,
   "id": "a633a05f",
   "metadata": {
    "ExecuteTime": {
     "end_time": "2022-02-14T19:41:49.598453Z",
     "start_time": "2022-02-14T19:41:49.593059Z"
    }
   },
   "outputs": [],
   "source": [
    "import time\n",
    "start = time.time()\n",
    "\n",
    "#Common module parameters:\n",
    "NUMPY_RANDOM_SEED=10\n",
    "figsize = (9, 6)\n",
    "\n",
    "#Train validate test split (70%/15%/15%). Test split is inferred from test and validate values.\n",
    "train_size = 0.70\n",
    "valid_size=0.15\n",
    "\n",
    "\n",
    "LAZY_WALK_LAG=1 # # of periods (hours) to compute metrics for a lazy walk baseline scenario.\n",
    "\n",
    "MODEL_NAME_RNN='2v1_ALLDNNs-EPOCHS_1000-48-2-BASE_c1'\n",
    "MODEL_NAME_LSTM='2v1_ALLDNNs-EPOCHS_100-48-2-BASE_c2'\n",
    "MODEL_NAME_TCN='2v1_ALLDNNs-EPOCHS_100-48-2-BASE_c3'\n",
    "MODEL_NAME_GRU='2v1_ALLDNNs-EPOCHS_100-48-2-BASE_c4'\n",
    "MODEL_NAME_NBEATS='2v1_ALLDNNs-EPOCHS_100-48-2-BASE_c5'\n",
    "MODEL_NAME_TFT='2v1_ALLDNNs-EPOCHS_100-48-2-BASE_c6'\n",
    "\n",
    "# FOR MACOS \"/darts_logs/\" OR \"\\\\darts_logs\\\\\" FOR WIN - CHOOSE ACCORDINGLY:\n",
    "LOG_PATH=\"/darts_logs/\" \n",
    "TENSORBOARD_LOG_PATH_RNN = ((os.getcwd() + LOG_PATH + MODEL_NAME_RNN))\n",
    "TENSORBOARD_LOG_PATH_LSTM = ((os.getcwd() + LOG_PATH + MODEL_NAME_LSTM))\n",
    "TENSORBOARD_LOG_PATH_TCN = ((os.getcwd() + LOG_PATH + MODEL_NAME_TCN))\n",
    "TENSORBOARD_LOG_PATH_GRU = ((os.getcwd() + LOG_PATH + MODEL_NAME_GRU))\n",
    "TENSORBOARD_LOG_PATH_NBEATS = ((os.getcwd() + LOG_PATH + MODEL_NAME_NBEATS))\n",
    "TENSORBOARD_LOG_PATH_TFT = ((os.getcwd() + LOG_PATH + MODEL_NAME_TFT))\n",
    "\n",
    "#Deep Neural Network parameters:\n",
    "RANDOM_STATE=31\n",
    "INPUT_CHUNK_LENGTH = 48 #periods = hours\n",
    "OUTPUT_CHUNK_LENGTH = 2\n",
    "FORECAST_HORIZON = 2 #periods = hours\n",
    "HIST_FOR_TIME_START = '2021-10-17T11:00:00' #must be minimum (FORECAST_HORIZON +1) periods ahead of the test start series\n",
    "\n",
    "N_EPOCHS_RNN=100\n",
    "N_EPOCHS_LSTM=100\n",
    "N_EPOCHS_TCN=100\n",
    "N_EPOCHS_GRU=100\n",
    "N_EPOCHS_NBEATS=100\n",
    "N_EPOCHS_TFT=100"
   ]
  },
  {
   "cell_type": "code",
   "execution_count": null,
   "id": "0d7d3729",
   "metadata": {
    "ExecuteTime": {
     "end_time": "2022-02-14T19:41:52.322524Z",
     "start_time": "2022-02-14T19:41:49.600613Z"
    }
   },
   "outputs": [],
   "source": [
    "import numpy as np\n",
    "import pandas as pd\n",
    "import random\n",
    "from tqdm import tqdm_notebook as tqdm\n",
    "\n",
    "\n",
    "import matplotlib.pyplot as plt\n",
    "import torch\n",
    "\n",
    "from darts import TimeSeries, concatenate\n",
    "from darts.dataprocessing.transformers import Scaler\n",
    "from darts.models import TFTModel, RNNModel, TCNModel, BlockRNNModel, NBEATSModel, ARIMA, Prophet\n",
    "from darts.metrics import mape, rmse, r2_score, mae, mse\n",
    "\n",
    "import warnings\n",
    "warnings.filterwarnings(\"ignore\")\n",
    "\n",
    "import logging\n",
    "logging.disable(logging.CRITICAL)\n",
    "\n",
    "%matplotlib inline"
   ]
  },
  {
   "cell_type": "code",
   "execution_count": null,
   "id": "ae43af4b",
   "metadata": {
    "scrolled": true
   },
   "outputs": [],
   "source": [
    "#DARTS version 0.17.1\n",
    "print('\\n'.join(f'{m.__name__}=={m.__version__}' for m in globals().values() if getattr(m, '__version__', None)))"
   ]
  },
  {
   "cell_type": "code",
   "execution_count": null,
   "id": "0f4d448c",
   "metadata": {},
   "outputs": [],
   "source": [
    "#CONSTANT VALUE TEST TIMESERIES\n",
    "\n",
    "# np.random.seed(NUMPY_RANDOM_SEED)\n",
    "# series_constant = tg.constant_timeseries(\n",
    "#     value=1.0,\n",
    "#     start=pd.to_datetime(TS_START_DATETIME),\n",
    "#     end=pd.to_datetime(TS_END_DATETIME),\n",
    "# #   length=TS_LENGTH,\n",
    "#     freq=TS_FREQUENCY,\n",
    "#     column_name='c',\n",
    "#     )"
   ]
  },
  {
   "cell_type": "code",
   "execution_count": null,
   "id": "8a8b76d7",
   "metadata": {},
   "outputs": [],
   "source": [
    "# #RANDOM WALK TEST TIMESERIES - Creates a random walk univariate TimeSeries, where each step is obtained by sampling a\n",
    "# #gaussian distribution with mean mean and standard deviation std.\n",
    "\n",
    "# np.random.seed(NUMPY_RANDOM_SEED)\n",
    "# series_random_walk = tg.random_walk_timeseries(\n",
    "#     mean=0.0,\n",
    "#     std=1.0,\n",
    "#     start=pd.to_datetime(TS_START_DATETIME),\n",
    "#     end=pd.to_datetime(TS_END_DATETIME),\n",
    "# #   length=TS_LENGTH,\n",
    "#     freq=TS_FREQUENCY,\n",
    "#     column_name='c',\n",
    "#     )"
   ]
  },
  {
   "cell_type": "code",
   "execution_count": null,
   "id": "4955ec82",
   "metadata": {
    "ExecuteTime": {
     "end_time": "2022-02-14T19:41:52.485941Z",
     "start_time": "2022-02-14T19:41:52.325152Z"
    }
   },
   "outputs": [],
   "source": [
    "df = pd.read_csv(r\"C:\\Users\\User\\Downloads\\price-ohlc-eth-1h-final.csv\", parse_dates=[\"timestamp\"])\n",
    "df['timestamp'] = pd.to_datetime(df.timestamp).dt.tz_localize(None)\n",
    "nof_missing_values_o = sum(np.isnan(df['o']))\n",
    "nof_missing_values_h = sum(np.isnan(df['h']))\n",
    "nof_missing_values_l = sum(np.isnan(df['l']))\n",
    "nof_missing_values_c = sum(np.isnan(df['c']))\n",
    "\n",
    "df = df.fillna(method=\"backfill\")\n",
    "nof_missing_values = sum(np.isnan(df['o']))\n",
    "\n",
    "df = df.fillna(method=\"backfill\")\n",
    "nof_missing_values = sum(np.isnan(df['h']))\n",
    "\n",
    "df = df.fillna(method=\"backfill\")\n",
    "nof_missing_values = sum(np.isnan(df['l']))\n",
    "\n",
    "df = df.fillna(method=\"backfill\")\n",
    "nof_missing_values = sum(np.isnan(df['c']))\n",
    "\n",
    "train_index = int(len(df)*train_size)\n",
    "\n",
    "df_train = df[0:train_index]\n",
    "df_rem = df[train_index:]\n",
    "\n",
    "valid_index = int(len(df)*valid_size)\n",
    "\n",
    "df_val = df[train_index:train_index+valid_index]\n",
    "df_test = df[train_index+valid_index:]\n",
    "\n",
    "series = TimeSeries.from_dataframe(df, time_col='timestamp', value_cols=['c']).astype(np.float32)\n",
    "series_covariates = TimeSeries.from_dataframe(df, time_col='timestamp', value_cols=['h','l','o']).astype(np.float32)\n",
    "train = TimeSeries.from_dataframe(df_train, time_col='timestamp', value_cols=['c']).astype(np.float32)\n",
    "train_covariates = TimeSeries.from_dataframe(df_train, time_col='timestamp', value_cols=['h','l','o']).astype(np.float32)\n",
    "val = TimeSeries.from_dataframe(df_val, time_col='timestamp', value_cols=['c']).astype(np.float32)\n",
    "val_covariates = TimeSeries.from_dataframe(df_val, time_col='timestamp', value_cols=['h','l','o']).astype(np.float32)\n",
    "test = TimeSeries.from_dataframe(df_test, time_col='timestamp', value_cols=['c']).astype(np.float32)\n",
    "test_covariates = TimeSeries.from_dataframe(df_test, time_col='timestamp', value_cols=['h','l','o']).astype(np.float32)"
   ]
  },
  {
   "cell_type": "code",
   "execution_count": null,
   "id": "97a5d71e",
   "metadata": {
    "scrolled": true
   },
   "outputs": [],
   "source": [
    "# from darts.utils.statistics import check_seasonality, plot_acf\n",
    "\n",
    "# print('Seasonality: ',check_seasonality(series, max_lag=(len(series)-1)))\n",
    "# plot_acf(series, 1, max_lag=(len(series)-1))"
   ]
  },
  {
   "cell_type": "code",
   "execution_count": null,
   "id": "8f01cee2",
   "metadata": {
    "ExecuteTime": {
     "end_time": "2022-02-14T19:41:53.210675Z",
     "start_time": "2022-02-14T19:41:53.145941Z"
    }
   },
   "outputs": [],
   "source": [
    "transformer = Scaler()\n",
    "train_transformed = transformer.fit_transform(train)\n",
    "val_transformed = transformer.transform(val)\n",
    "test_transformed = transformer.transform(test)\n",
    "train_covariates_transformed = transformer.fit_transform(train_covariates)\n",
    "val_covariates_transformed = transformer.transform(val_covariates)\n",
    "test_covariates_transformed = transformer.transform(test_covariates)"
   ]
  },
  {
   "cell_type": "code",
   "execution_count": null,
   "id": "b0050bb4",
   "metadata": {},
   "outputs": [],
   "source": [
    "train.plot(label=\"Train set\")\n",
    "val.plot(label=\"Validate set\")\n",
    "test.plot(label=\"Test set\")\n",
    "plt.legend(\n",
    "           borderpad=2,\n",
    "           labelspacing=1.0,\n",
    "           title_fontsize='large',\n",
    "           shadow=False,\n",
    "           frameon=False,\n",
    "           loc='best'  \n",
    "          )\n",
    "plt.ylabel('Ethereum Close value (USD)')\n",
    "plt.title('Ethereum dataset - train, validate and test series',fontsize=13)"
   ]
  },
  {
   "cell_type": "code",
   "execution_count": null,
   "id": "5e1cb98d",
   "metadata": {},
   "outputs": [],
   "source": [
    "print(\"=\"*72)\n",
    "print('Dataset type',' -      Start time    -', '     End time','    -Samples', '- %split')\n",
    "print(\"-\"*72)\n",
    "print('Full dataset: ', series.start_time(),'', series.end_time(),'', len(series),'     {:.0f}'.format((len(series)/len(series)*100)))\n",
    "print('Train set:    ', train.start_time(),'', train.end_time(),'', len(train),'      {:.0f}'.format((len(train)/len(series)*100)))\n",
    "print('Validate set: ', val.start_time(),'', val.end_time(),' ', len(val),'      {:.0f}'.format((len(val)/len(series)*100)))\n",
    "print('Test set:     ', test.start_time(),'', test.end_time(),' ', len(test),'      {:.0f}'.format((len(test)/len(series)*100)))\n",
    "print(\"=\"*72)"
   ]
  },
  {
   "cell_type": "code",
   "execution_count": null,
   "id": "e8f7344a",
   "metadata": {
    "scrolled": true
   },
   "outputs": [],
   "source": [
    "tic_prep = time.time()\n",
    "prep_elapsed_time = tic_prep - start\n",
    "print(prep_elapsed_time,'seconds')"
   ]
  },
  {
   "cell_type": "code",
   "execution_count": null,
   "id": "4ac1fd5b",
   "metadata": {},
   "outputs": [],
   "source": [
    "rnn_model = RNNModel(\n",
    "    input_chunk_length=INPUT_CHUNK_LENGTH,\n",
    "    output_chunk_length=OUTPUT_CHUNK_LENGTH,\n",
    "    model=\"RNN\",\n",
    "    hidden_dim=30,\n",
    "    n_rnn_layers=1,\n",
    "    loss_fn=torch.nn.MSELoss(),\n",
    "    dropout=0.1,\n",
    "    batch_size=16,\n",
    "    n_epochs=N_EPOCHS_RNN,\n",
    "    optimizer_cls=torch.optim.Adam,\n",
    "    optimizer_kwargs={\"lr\": 1e-3},\n",
    "    model_name=MODEL_NAME_RNN,\n",
    "    log_tensorboard=True,\n",
    "    random_state=RANDOM_STATE,\n",
    "    force_reset=True,\n",
    "    save_checkpoints=True,\n",
    "    pl_trainer_kwargs={\n",
    "        'accelerator': 'gpu', 'gpus': [0],\n",
    "        'progress_bar_refresh_rate': True,\n",
    "        'enable_model_summary': True,\n",
    "#        'auto_scale_batch_size': True,\n",
    "#        'auto_lr_find': True,\n",
    "    },\n",
    "    show_warnings=True,\n",
    ")\n",
    "\n",
    "rnn_model.fit(\n",
    "    train_transformed,\n",
    "    val_series=val_transformed,\n",
    "    future_covariates=train_covariates_transformed,\n",
    "    val_future_covariates=val_covariates_transformed,\n",
    "    verbose=True,\n",
    ")"
   ]
  },
  {
   "cell_type": "code",
   "execution_count": null,
   "id": "266bee9b",
   "metadata": {
    "scrolled": true
   },
   "outputs": [],
   "source": [
    "best_rnn_model = RNNModel.load_from_checkpoint(model_name=MODEL_NAME_RNN, best=True)"
   ]
  },
  {
   "cell_type": "code",
   "execution_count": null,
   "id": "d5576525",
   "metadata": {
    "ExecuteTime": {
     "end_time": "2022-02-14T21:11:07.592679Z",
     "start_time": "2022-02-14T21:10:26.168101Z"
    }
   },
   "outputs": [],
   "source": [
    "backtest_series_rnn = best_rnn_model.historical_forecasts(\n",
    "    series=test_transformed,\n",
    "    future_covariates=test_covariates_transformed,\n",
    "    start=pd.Timestamp(HIST_FOR_TIME_START),\n",
    "    forecast_horizon=FORECAST_HORIZON,\n",
    "    stride=1,\n",
    "    retrain=False,\n",
    "    verbose=False,\n",
    ")"
   ]
  },
  {
   "cell_type": "code",
   "execution_count": null,
   "id": "01f7d3c4",
   "metadata": {
    "scrolled": true
   },
   "outputs": [],
   "source": [
    "tic_rnn = time.time()\n",
    "rnn_elapsed_time = tic_rnn - tic_prep\n",
    "print(rnn_elapsed_time,'seconds')"
   ]
  },
  {
   "cell_type": "code",
   "execution_count": null,
   "id": "2b477ef1",
   "metadata": {},
   "outputs": [],
   "source": [
    "print(\"=\"*63)\n",
    "print(\"---  Backtest metric results - Test set with best model     ---\")\n",
    "print(\"-\"*63)\n",
    "print(\"Model-Metrics    MSE\", \"      MAE \",\"   RMSE\", \"     R2      MAPE\")\n",
    "print(\"-\"*63)\n",
    "print(\"RNN:           {:.5f}\".format(mse(backtest_series_rnn, test_transformed)),\n",
    "      \"  {:.4f}\".format(mae(backtest_series_rnn, test_transformed)),\n",
    "      \"  {:.4f}\".format(rmse(backtest_series_rnn, test_transformed)),\n",
    "      \"  {:.4f}\".format(r2_score(backtest_series_rnn, test_transformed)),\n",
    "      \"  {:.3f}%\".format(mape(backtest_series_rnn, test_transformed))\n",
    ")"
   ]
  },
  {
   "cell_type": "code",
   "execution_count": null,
   "id": "c1f50089",
   "metadata": {},
   "outputs": [],
   "source": [
    "# !tensorboard dev upload --logdir={TENSORBOARD_LOG_PATH_RNN} \\\n",
    "#                         --name={MODEL_NAME_RNN} \\\n",
    "#                         --one_shot"
   ]
  },
  {
   "cell_type": "code",
   "execution_count": null,
   "id": "3d57d4cc",
   "metadata": {},
   "outputs": [],
   "source": [
    "lstm_model = RNNModel(\n",
    "    model=\"LSTM\",\n",
    "    hidden_dim=30,\n",
    "    dropout=0.1,\n",
    "    batch_size=16,\n",
    "    n_epochs=N_EPOCHS_LSTM,\n",
    "    optimizer_kwargs={\"lr\": 1e-3},\n",
    "    model_name=MODEL_NAME_LSTM,\n",
    "    log_tensorboard=True,\n",
    "    random_state=RANDOM_STATE,\n",
    "    training_length=INPUT_CHUNK_LENGTH,\n",
    "    input_chunk_length=INPUT_CHUNK_LENGTH,\n",
    "    force_reset=True,\n",
    "    save_checkpoints=True,\n",
    "    torch_device_str='cuda:0',\n",
    ")\n",
    "\n",
    "lstm_model.fit(\n",
    "    train_transformed,\n",
    "    val_series=val_transformed,\n",
    "    future_covariates=train_covariates_transformed,\n",
    "    val_future_covariates=val_covariates_transformed,\n",
    "    verbose=True,\n",
    ")"
   ]
  },
  {
   "cell_type": "code",
   "execution_count": null,
   "id": "d5c98cd0",
   "metadata": {},
   "outputs": [],
   "source": [
    "best_lstm_model = RNNModel.load_from_checkpoint(model_name=MODEL_NAME_LSTM, best=True)"
   ]
  },
  {
   "cell_type": "code",
   "execution_count": null,
   "id": "1ffbd4f4",
   "metadata": {},
   "outputs": [],
   "source": [
    "backtest_series_lstm = best_lstm_model.historical_forecasts(\n",
    "    series=test_transformed,\n",
    "    future_covariates=test_covariates_transformed,\n",
    "    start=pd.Timestamp(HIST_FOR_TIME_START),\n",
    "    forecast_horizon=FORECAST_HORIZON,\n",
    "    stride=1,\n",
    "    retrain=False,\n",
    "    verbose=False,\n",
    ")"
   ]
  },
  {
   "cell_type": "code",
   "execution_count": null,
   "id": "0b66e406",
   "metadata": {},
   "outputs": [],
   "source": [
    "tic_lstm = time.time()\n",
    "lstm_elapsed_time = tic_lstm - tic_rnn\n",
    "print(lstm_elapsed_time,'seconds')"
   ]
  },
  {
   "cell_type": "code",
   "execution_count": null,
   "id": "39b6c641",
   "metadata": {},
   "outputs": [],
   "source": [
    "print(\"=\"*63)\n",
    "print(\"---  Backtest metric results - Test set with best model     ---\")\n",
    "print(\"-\"*63)\n",
    "print(\"Model-Metrics    MSE\", \"      MAE \",\"   RMSE\", \"     R2      MAPE\")\n",
    "print(\"-\"*63)\n",
    "print(\"LSTM:          {:.5f}\".format(mse(backtest_series_lstm, test_transformed)),\n",
    "      \"  {:.4f}\".format(mae(backtest_series_lstm, test_transformed)),\n",
    "      \"  {:.4f}\".format(rmse(backtest_series_lstm, test_transformed)),\n",
    "      \"  {:.4f}\".format(r2_score(backtest_series_lstm, test_transformed)),\n",
    "      \"  {:.3f}%\".format(mape(backtest_series_lstm, test_transformed))\n",
    ")"
   ]
  },
  {
   "cell_type": "code",
   "execution_count": null,
   "id": "89762c09",
   "metadata": {},
   "outputs": [],
   "source": [
    "tcn_model = TCNModel(\n",
    "    input_chunk_length=INPUT_CHUNK_LENGTH,\n",
    "    output_chunk_length=FORECAST_HORIZON,\n",
    "    n_epochs=N_EPOCHS_TCN,\n",
    "    dropout=0.1,\n",
    "#    num_layers= 10, #not defined prior to this version\n",
    "    optimizer_kwargs={\"lr\": 1e-3},\n",
    "    dilation_base=2,\n",
    "    weight_norm=True,\n",
    "    kernel_size=5,\n",
    "    num_filters=3,\n",
    "    random_state=RANDOM_STATE,\n",
    "    force_reset=True,\n",
    "    model_name=MODEL_NAME_TCN,\n",
    "    log_tensorboard=True,\n",
    "    save_checkpoints=True,\n",
    "    torch_device_str='cuda:0',\n",
    ")\n",
    "\n",
    "tcn_model.fit(\n",
    "    series=train_transformed,\n",
    "    val_series=val_transformed,\n",
    "#    future_covariates=train_covariates_transformed,\n",
    "#    val_future_covariates=val_covariates_transformed,\n",
    "    past_covariates=train_covariates_transformed,\n",
    "    val_past_covariates=val_covariates_transformed,\n",
    "    verbose=True,\n",
    ")"
   ]
  },
  {
   "cell_type": "code",
   "execution_count": null,
   "id": "9c8e2d6a",
   "metadata": {},
   "outputs": [],
   "source": [
    "best_tcn_model = TCNModel.load_from_checkpoint(model_name=MODEL_NAME_TCN, best=True)"
   ]
  },
  {
   "cell_type": "code",
   "execution_count": null,
   "id": "2e0160e0",
   "metadata": {},
   "outputs": [],
   "source": [
    "backtest_series_tcn = best_tcn_model.historical_forecasts(\n",
    "    series=test_transformed,\n",
    "    past_covariates=test_covariates_transformed,\n",
    "    start=pd.Timestamp(HIST_FOR_TIME_START),            \n",
    "    forecast_horizon=FORECAST_HORIZON,\n",
    "    stride=1,\n",
    "    retrain=False,\n",
    "    verbose=False,\n",
    ")"
   ]
  },
  {
   "cell_type": "code",
   "execution_count": null,
   "id": "8fbcf468",
   "metadata": {},
   "outputs": [],
   "source": [
    "tic_tcn = time.time()\n",
    "tcn_elapsed_time = tic_tcn - tic_lstm\n",
    "print(tcn_elapsed_time,'seconds')"
   ]
  },
  {
   "cell_type": "code",
   "execution_count": null,
   "id": "4f7b1ef4",
   "metadata": {
    "scrolled": true
   },
   "outputs": [],
   "source": [
    "print(\"=\"*63)\n",
    "print(\"---  Backtest metric results - Test set with best model     ---\")\n",
    "print(\"-\"*63)\n",
    "print(\"Model-Metrics    MSE\", \"      MAE \",\"   RMSE\", \"     R2      MAPE\")\n",
    "print(\"-\"*63)\n",
    "print(\"TCN:           {:.5f}\".format(mse(backtest_series_tcn, test_transformed)),\n",
    "      \"  {:.4f}\".format(mae(backtest_series_tcn, test_transformed)),\n",
    "      \"  {:.4f}\".format(rmse(backtest_series_tcn, test_transformed)),\n",
    "      \"  {:.4f}\".format(r2_score(backtest_series_tcn, test_transformed)),\n",
    "      \"  {:.3f}%\".format(mape(backtest_series_tcn, test_transformed))\n",
    ")"
   ]
  },
  {
   "cell_type": "code",
   "execution_count": null,
   "id": "ddaa0843",
   "metadata": {
    "scrolled": false
   },
   "outputs": [],
   "source": [
    "gru_model = BlockRNNModel(\n",
    "    model=\"GRU\",\n",
    "    input_chunk_length=INPUT_CHUNK_LENGTH,\n",
    "    output_chunk_length=FORECAST_HORIZON,\n",
    "    hidden_size=30,\n",
    "    n_rnn_layers=1,\n",
    "    batch_size=16,\n",
    "    n_epochs=N_EPOCHS_GRU,\n",
    "    dropout=0.1,\n",
    "    model_name=MODEL_NAME_GRU,\n",
    "    nr_epochs_val_period=1,\n",
    "    optimizer_kwargs={\"lr\": 1e-3},\n",
    "    log_tensorboard=True,\n",
    "    random_state=RANDOM_STATE,\n",
    "    force_reset=True,\n",
    "    save_checkpoints=True,\n",
    "    torch_device_str='cuda:0',\n",
    ")\n",
    "\n",
    "gru_model.fit(\n",
    "    series=train_transformed,\n",
    "    val_series=val_transformed,\n",
    "#     future_covariates=train_covariates_transformed,\n",
    "#     val_future_covariates=val_covariates_transformed,\n",
    "    past_covariates=train_covariates_transformed,\n",
    "    val_past_covariates=val_covariates_transformed,\n",
    "    verbose=True,\n",
    ")"
   ]
  },
  {
   "cell_type": "code",
   "execution_count": null,
   "id": "b43ef834",
   "metadata": {},
   "outputs": [],
   "source": [
    "best_gru_model = BlockRNNModel.load_from_checkpoint(model_name=MODEL_NAME_GRU, best=True)"
   ]
  },
  {
   "cell_type": "code",
   "execution_count": null,
   "id": "02dd0c2b",
   "metadata": {},
   "outputs": [],
   "source": [
    "backtest_series_gru = best_gru_model.historical_forecasts(\n",
    "    series=test_transformed,\n",
    "    past_covariates=test_covariates_transformed,\n",
    "    start=pd.Timestamp(HIST_FOR_TIME_START),\n",
    "    forecast_horizon=FORECAST_HORIZON,\n",
    "    stride=1,\n",
    "    retrain=False,\n",
    "    verbose=False,\n",
    ")"
   ]
  },
  {
   "cell_type": "code",
   "execution_count": null,
   "id": "35fa5b0e",
   "metadata": {},
   "outputs": [],
   "source": [
    "tic_gru = time.time()\n",
    "gru_elapsed_time = tic_gru - tic_tcn\n",
    "print(gru_elapsed_time,'seconds')"
   ]
  },
  {
   "cell_type": "code",
   "execution_count": null,
   "id": "039d652c",
   "metadata": {
    "scrolled": false
   },
   "outputs": [],
   "source": [
    "print(\"=\"*63)\n",
    "print(\"---  Backtest metric results - Test set with best model     ---\")\n",
    "print(\"-\"*63)\n",
    "print(\"Model-Metrics    MSE\", \"      MAE \",\"   RMSE\", \"     R2      MAPE\")\n",
    "print(\"-\"*63)\n",
    "print(\"GRU:          {:.5f}\".format(mse(backtest_series_gru, test_transformed)),\n",
    "      \"  {:.4f}\".format(mae(backtest_series_gru, test_transformed)),\n",
    "      \"  {:.4f}\".format(rmse(backtest_series_gru, test_transformed)),\n",
    "      \"  {:.4f}\".format(r2_score(backtest_series_gru, test_transformed)),\n",
    "      \"  {:.3f}%\".format(mape(backtest_series_gru, test_transformed))\n",
    ")"
   ]
  },
  {
   "cell_type": "code",
   "execution_count": null,
   "id": "8cee2108",
   "metadata": {
    "scrolled": true
   },
   "outputs": [],
   "source": [
    "nbeats_model = NBEATSModel(\n",
    "    input_chunk_length=INPUT_CHUNK_LENGTH,\n",
    "    output_chunk_length=FORECAST_HORIZON,\n",
    "    generic_architecture=True,\n",
    "    num_stacks=10,\n",
    "    num_blocks=1,\n",
    "    num_layers=4,\n",
    "    layer_widths=512,\n",
    "    n_epochs=N_EPOCHS_NBEATS,\n",
    "    nr_epochs_val_period=1,\n",
    "    batch_size=16,\n",
    "    model_name=MODEL_NAME_NBEATS,\n",
    "    save_checkpoints=True,\n",
    "    random_state=RANDOM_STATE,\n",
    "    force_reset=True,\n",
    "    log_tensorboard=True,\n",
    "    torch_device_str='cuda:0',\n",
    ")\n",
    "\n",
    "nbeats_model.fit(\n",
    "    series=train_transformed,\n",
    "    val_series=val_transformed,\n",
    "#    future_covariates=train_covariates_transformed,\n",
    "#    val_future_covariates=val_covariates_transformed,\n",
    "    past_covariates=train_covariates_transformed,\n",
    "    val_past_covariates=val_covariates_transformed,\n",
    "    verbose=True,\n",
    ")"
   ]
  },
  {
   "cell_type": "code",
   "execution_count": null,
   "id": "41561461",
   "metadata": {},
   "outputs": [],
   "source": [
    "best_nbeats_model = NBEATSModel.load_from_checkpoint(model_name=MODEL_NAME_NBEATS, best=True)"
   ]
  },
  {
   "cell_type": "code",
   "execution_count": null,
   "id": "0f9c03b9",
   "metadata": {},
   "outputs": [],
   "source": [
    "backtest_series_nbeats = best_nbeats_model.historical_forecasts(\n",
    "    series=test_transformed,\n",
    "    past_covariates=test_covariates_transformed,\n",
    "    start=pd.Timestamp(HIST_FOR_TIME_START),\n",
    "    forecast_horizon=FORECAST_HORIZON,\n",
    "    stride=1,\n",
    "    retrain=False,\n",
    "    verbose=False,\n",
    ")"
   ]
  },
  {
   "cell_type": "code",
   "execution_count": null,
   "id": "00eeb41b",
   "metadata": {},
   "outputs": [],
   "source": [
    "tic_nbeats = time.time()\n",
    "nbeats_elapsed_time = tic_nbeats - tic_gru\n",
    "print(nbeats_elapsed_time,'seconds')"
   ]
  },
  {
   "cell_type": "code",
   "execution_count": null,
   "id": "35de8491",
   "metadata": {},
   "outputs": [],
   "source": [
    "print(\"=\"*63)\n",
    "print(\"---  Backtest metric results - Test set with best model     ---\")\n",
    "print(\"-\"*63)\n",
    "print(\"Model-Metrics    MSE\", \"      MAE \",\"   RMSE\", \"     R2      MAPE\")\n",
    "print(\"-\"*63)\n",
    "print(\"NBEATS:       {:.5f}\".format(mse(backtest_series_nbeats, test_transformed)),\n",
    "      \"  {:.4f}\".format(mae(backtest_series_nbeats, test_transformed)),\n",
    "      \"  {:.4f}\".format(rmse(backtest_series_nbeats, test_transformed)),\n",
    "      \"  {:.4f}\".format(r2_score(backtest_series_nbeats, test_transformed)),\n",
    "      \"  {:.3f}%\".format(mape(backtest_series_nbeats, test_transformed))\n",
    ")"
   ]
  },
  {
   "cell_type": "code",
   "execution_count": null,
   "id": "35f400a9",
   "metadata": {
    "scrolled": false
   },
   "outputs": [],
   "source": [
    "tft_model = TFTModel(\n",
    "    input_chunk_length=INPUT_CHUNK_LENGTH,\n",
    "    output_chunk_length=OUTPUT_CHUNK_LENGTH,\n",
    "    hidden_size=32,\n",
    "    lstm_layers=1,\n",
    "    num_attention_heads=4,\n",
    "    dropout=0.1,\n",
    "    batch_size=16,\n",
    "    n_epochs=N_EPOCHS_TFT,\n",
    "    likelihood=None,\n",
    "    loss_fn=torch.nn.MSELoss(),\n",
    "    random_state=RANDOM_STATE,\n",
    "    add_relative_index=True,\n",
    "    force_reset=True,\n",
    "    model_name=MODEL_NAME_TFT,\n",
    "    save_checkpoints=True,\n",
    "    log_tensorboard=True,\n",
    "    torch_device_str='cuda:0',\n",
    ")\n",
    "\n",
    "tft_model.fit(\n",
    "    train_transformed,\n",
    "    val_series=val_transformed,\n",
    "    past_covariates=train_covariates_transformed,\n",
    "    val_past_covariates=val_covariates_transformed,\n",
    "    verbose=True\n",
    ")"
   ]
  },
  {
   "cell_type": "code",
   "execution_count": null,
   "id": "a03629bb",
   "metadata": {},
   "outputs": [],
   "source": [
    "best_tft_model = TFTModel.load_from_checkpoint(model_name=MODEL_NAME_TFT, best=True)"
   ]
  },
  {
   "cell_type": "code",
   "execution_count": null,
   "id": "675bc0f5",
   "metadata": {},
   "outputs": [],
   "source": [
    "backtest_series_tft = best_tft_model.historical_forecasts(\n",
    "    series=test_transformed,\n",
    "    start=pd.Timestamp(HIST_FOR_TIME_START),\n",
    "    past_covariates=test_covariates_transformed,\n",
    "    forecast_horizon=FORECAST_HORIZON,\n",
    "    stride=1,\n",
    "    retrain=False,\n",
    "    verbose=False,\n",
    ")"
   ]
  },
  {
   "cell_type": "code",
   "execution_count": null,
   "id": "c933fdc7",
   "metadata": {},
   "outputs": [],
   "source": [
    "tic_tft = time.time()\n",
    "tft_elapsed_time = tic_tft - tic_nbeats\n",
    "print(tft_elapsed_time,'seconds')"
   ]
  },
  {
   "cell_type": "code",
   "execution_count": null,
   "id": "c4e891f9",
   "metadata": {},
   "outputs": [],
   "source": [
    "print(\"=\"*63)\n",
    "print(\"---  Backtest metric results - Test set with best model     ---\")\n",
    "print(\"-\"*63)\n",
    "print(\"Model-Metrics    MSE\", \"      MAE \",\"   RMSE\", \"     R2      MAPE\")\n",
    "print(\"-\"*63)\n",
    "print(\"TFT:          {:.5f}\".format(mse(backtest_series_tft, test_transformed)),\n",
    "      \"  {:.4f}\".format(mae(backtest_series_tft, test_transformed)),\n",
    "      \"  {:.4f}\".format(rmse(backtest_series_tft, test_transformed)),\n",
    "      \"  {:.4f}\".format(r2_score(backtest_series_tft, test_transformed)),\n",
    "      \"  {:.3f}%\".format(mape(backtest_series_tft, test_transformed))\n",
    ")"
   ]
  },
  {
   "cell_type": "code",
   "execution_count": null,
   "id": "f0a21939",
   "metadata": {},
   "outputs": [],
   "source": [
    "arima_model = ARIMA()\n",
    "arima_model.fit(train_transformed)"
   ]
  },
  {
   "cell_type": "code",
   "execution_count": null,
   "id": "ed938faf",
   "metadata": {},
   "outputs": [],
   "source": [
    "backtest_series_arima = arima_model.historical_forecasts(\n",
    "   series=test_transformed,\n",
    "   start=pd.Timestamp(HIST_FOR_TIME_START),\n",
    "   forecast_horizon=FORECAST_HORIZON,\n",
    "   stride=1,\n",
    "   retrain=True,\n",
    "   verbose=True,\n",
    ")"
   ]
  },
  {
   "cell_type": "code",
   "execution_count": null,
   "id": "839e730d",
   "metadata": {},
   "outputs": [],
   "source": [
    "tic_arima = time.time()\n",
    "arima_elapsed_time = tic_arima - tic_tft\n",
    "print(arima_elapsed_time,'seconds')"
   ]
  },
  {
   "cell_type": "code",
   "execution_count": null,
   "id": "93e45640",
   "metadata": {},
   "outputs": [],
   "source": [
    "print(\"=\"*63)\n",
    "print(\"---  Backtest metric results - Test set with best model     ---\")\n",
    "print(\"-\"*63)\n",
    "print(\"Model-Metrics    MSE\", \"      MAE \",\"   RMSE\", \"     R2      MAPE\")\n",
    "print(\"-\"*63)\n",
    "print(\"ARIMA:        {:.5f}\".format(mse(backtest_series_arima, test_transformed)),\n",
    "     \"  {:.4f}\".format(mae(backtest_series_arima, test_transformed)),\n",
    "     \"  {:.4f}\".format(rmse(backtest_series_arima, test_transformed)),\n",
    "     \"  {:.4f}\".format(r2_score(backtest_series_arima, test_transformed)),\n",
    "     \"  {:.3f}%\".format(mape(backtest_series_arima, test_transformed))\n",
    ")"
   ]
  },
  {
   "cell_type": "code",
   "execution_count": null,
   "id": "dbec44c4",
   "metadata": {},
   "outputs": [],
   "source": [
    "test_transformed.plot(label=\"Ground Truth\")\n",
    "backtest_series_rnn.plot(label=\"RNN\", color='green')\n",
    "backtest_series_lstm.plot(label=\"LSTM\", color='magenta')\n",
    "backtest_series_tcn.plot(label=\"TCN\", color='cyan')\n",
    "backtest_series_gru.plot(label=\"GRU\", color='red')\n",
    "backtest_series_nbeats.plot(label=\"NBEATS\", color='violet')\n",
    "backtest_series_tft.plot(label=\"TFT\")\n",
    "backtest_series_arima.plot(label=\"ARIMA\")\n",
    "\n",
    "figsize = (36, 24)\n",
    "plt.legend(\n",
    "           borderpad=0,\n",
    "           labelspacing=0.4,\n",
    "           title_fontsize='large',\n",
    "           shadow=False,\n",
    "           frameon=False,\n",
    "           loc='best'  \n",
    "          )\n",
    "plt.ylabel('Normalized ETH close value')"
   ]
  },
  {
   "cell_type": "code",
   "execution_count": null,
   "id": "02e70768",
   "metadata": {
    "scrolled": false
   },
   "outputs": [],
   "source": [
    "print(\"=\"*33)\n",
    "print('---  Tempo de Processamento   ---')\n",
    "print(\"-\"*33)\n",
    "#print('1. Data handling:    {:.1f}'.format((prep_elapsed_time)),' seconds')\n",
    "print('A. Modelo ARIMA:    {:.1f}'.format((arima_elapsed_time/60)),' minutes')\n",
    "print(\"-\"*33)\n",
    "print('B. Modelo RNN:      {:.1f}'.format((rnn_elapsed_time)/60),' minutos')\n",
    "print('C. Modelo LSTM:     {:.1f}'.format((lstm_elapsed_time)/60),' minutos')\n",
    "print('D. Modelo TCN:      {:.1f}'.format((tcn_elapsed_time)/60),' minutos')\n",
    "print('E. Modelo GRU:      {:.1f}'.format((gru_elapsed_time)/60),' minutos')\n",
    "print('F. Modelo NBEATS:   {:.1f}'.format((nbeats_elapsed_time)/60), ' minutos')\n",
    "print('G. Modelo TFT:      {:.1f}'.format((tft_elapsed_time)/60),' minutos')\n",
    "\n",
    "print(\"=\"*33)"
   ]
  },
  {
   "cell_type": "code",
   "execution_count": null,
   "id": "b59c8025",
   "metadata": {
    "scrolled": true
   },
   "outputs": [],
   "source": [
    "print(\"=\"*63)\n",
    "print(\"---         Resultado Backtest - Conjunto de teste         ---\")\n",
    "print(\"-\"*63)\n",
    "print(\"Modelo-Metrica   MSE\", \"      MAE \",\"   RMSE\", \"     R2      MAPE\")\n",
    "print(\"-\"*63)\n",
    "print(\"ARIMA:         {:.5f}\".format(mse(backtest_series_arima, test_transformed)),\n",
    "     \"  {:.4f}\".format(mae(backtest_series_arima, test_transformed)),\n",
    "     \"  {:.4f}\".format(rmse(backtest_series_arima, test_transformed)),\n",
    "     \"  {:.4f}\".format(r2_score(backtest_series_arima, test_transformed)),\n",
    "     \"  {:.3f}%\".format(mape(backtest_series_arima, test_transformed))\n",
    ")\n",
    "print(\"-\"*63)\n",
    "print(\"RNN:           {:.5f}\".format(mse(backtest_series_rnn, test_transformed)),\n",
    "      \"  {:.4f}\".format(mae(backtest_series_rnn, test_transformed)),\n",
    "      \"  {:.4f}\".format(rmse(backtest_series_rnn, test_transformed)),\n",
    "      \"  {:.4f}\".format(r2_score(backtest_series_rnn, test_transformed)),\n",
    "      \"  {:.3f}%\".format(mape(backtest_series_rnn, test_transformed))\n",
    ")\n",
    "print(\"LSTM:          {:.5f}\".format(mse(backtest_series_lstm, test_transformed)),\n",
    "      \"  {:.4f}\".format(mae(backtest_series_lstm, test_transformed)),\n",
    "      \"  {:.4f}\".format(rmse(backtest_series_lstm, test_transformed)),\n",
    "      \"  {:.4f}\".format(r2_score(backtest_series_lstm, test_transformed)),\n",
    "      \"  {:.3f}%\".format(mape(backtest_series_lstm, test_transformed))\n",
    ")\n",
    "print(\"TCN:           {:.5f}\".format(mse(backtest_series_tcn, test_transformed)),\n",
    "      \"  {:.4f}\".format(mae(backtest_series_tcn, test_transformed)),\n",
    "      \"  {:.4f}\".format(rmse(backtest_series_tcn, test_transformed)),\n",
    "      \"  {:.4f}\".format(r2_score(backtest_series_tcn, test_transformed)),\n",
    "      \"  {:.3f}%\".format(mape(backtest_series_tcn, test_transformed))\n",
    ")\n",
    "print(\"GRU:           {:.5f}\".format(mse(backtest_series_gru, test_transformed)),\n",
    "      \"  {:.4f}\".format(mae(backtest_series_gru, test_transformed)),\n",
    "      \"  {:.4f}\".format(rmse(backtest_series_gru, test_transformed)),\n",
    "      \"  {:.4f}\".format(r2_score(backtest_series_gru, test_transformed)),\n",
    "      \"  {:.3f}%\".format(mape(backtest_series_gru, test_transformed))\n",
    ")\n",
    "print(\"NBEATS:        {:.5f}\".format(mse(backtest_series_nbeats, test_transformed)),\n",
    "      \"  {:.4f}\".format(mae(backtest_series_nbeats, test_transformed)),\n",
    "      \"  {:.4f}\".format(rmse(backtest_series_nbeats, test_transformed)),\n",
    "      \"  {:.4f}\".format(r2_score(backtest_series_nbeats, test_transformed)),\n",
    "      \"  {:.3f}%\".format(mape(backtest_series_nbeats, test_transformed))\n",
    ")\n",
    "print(\"TFT:           {:.5f}\".format(mse(backtest_series_tft, test_transformed)),\n",
    "      \"  {:.4f}\".format(mae(backtest_series_tft, test_transformed)),\n",
    "      \"  {:.4f}\".format(rmse(backtest_series_tft, test_transformed)),\n",
    "      \"  {:.4f}\".format(r2_score(backtest_series_tft, test_transformed)),\n",
    "      \"  {:.3f}%\".format(mape(backtest_series_tft, test_transformed))\n",
    ")\n",
    "#print(\"ARIMA:         {:.5f}\".format(mse(backtest_series_arima, test_transformed)),\n",
    "#      \"  {:.4f}\".format(mae(backtest_series_arima, test_transformed)),\n",
    "#      \"  {:.4f}\".format(rmse(backtest_series_arima, test_transformed)),\n",
    "#      \"  {:.4f}\".format(r2_score(backtest_series_arima, test_transformed)),\n",
    "#      \"  {:.3f}%\".format(mape(backtest_series_arima, test_transformed))\n",
    "#)\n",
    "print(\"=\"*63)"
   ]
  },
  {
   "cell_type": "code",
   "execution_count": null,
   "id": "a65049b0",
   "metadata": {
    "scrolled": false
   },
   "outputs": [],
   "source": [
    "print(\"=\"*47)\n",
    "print('-----  DNN Model Execution Information  -------')\n",
    "print(\"-\"*47)\n",
    "print('1. Start time:            ',time.strftime('%Y-%m-%d %H:%M:%S', time.localtime(start)))\n",
    "print('2. End time:              ',time.strftime('%Y-%m-%d %H:%M:%S', time.localtime(tic_arima)))\n",
    "print('3. Total elapsed time:              {:.1f}'.format((tic_arima - start)/3600),' hours')\n",
    "print(\"=\"*47)"
   ]
  },
  {
   "cell_type": "code",
   "execution_count": null,
   "id": "30467463",
   "metadata": {},
   "outputs": [],
   "source": []
  }
 ],
 "metadata": {
  "kernelspec": {
   "display_name": "Python 3 (ipykernel)",
   "language": "python",
   "name": "python3"
  },
  "language_info": {
   "codemirror_mode": {
    "name": "ipython",
    "version": 3
   },
   "file_extension": ".py",
   "mimetype": "text/x-python",
   "name": "python",
   "nbconvert_exporter": "python",
   "pygments_lexer": "ipython3",
   "version": "3.7.11"
  }
 },
 "nbformat": 4,
 "nbformat_minor": 5
}

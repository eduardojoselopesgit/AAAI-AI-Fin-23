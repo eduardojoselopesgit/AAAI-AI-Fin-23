{
 "cells": [
  {
   "cell_type": "code",
   "execution_count": 1,
   "id": "63a3f783",
   "metadata": {
    "ExecuteTime": {
     "end_time": "2022-02-14T19:41:49.589505Z",
     "start_time": "2022-02-14T19:41:49.462706Z"
    },
    "scrolled": false
   },
   "outputs": [
    {
     "name": "stdout",
     "output_type": "stream",
     "text": [
      "Python 3.7.11\n"
     ]
    }
   ],
   "source": [
    "!python -V"
   ]
  },
  {
   "cell_type": "code",
   "execution_count": 2,
   "id": "a633a05f",
   "metadata": {
    "ExecuteTime": {
     "end_time": "2022-02-14T19:41:49.598453Z",
     "start_time": "2022-02-14T19:41:49.593059Z"
    }
   },
   "outputs": [],
   "source": [
    "import time\n",
    "start = time.time()\n",
    "\n",
    "#Common module parameters:\n",
    "NUMPY_RANDOM_SEED=10\n",
    "figsize = (9, 6)\n",
    "\n",
    "#Train validate test split (70%/15%/15%)\n",
    "train_size = 0.70\n",
    "valid_size=0.15\n",
    "\n",
    "#TFT DNN:\n",
    "N_ATTENTION_HEADS=4\n",
    "\n",
    "MODEL_NAME_RNN='0v9_RNN-EPOCHS_100-48-2_g'\n",
    "MODEL_NAME_LSTM='0v9_LSTM-EPOCHS_100-48-2_g'\n",
    "MODEL_NAME_TCN='0v9_TCN-EPOCHS_100-48-2_g'\n",
    "MODEL_NAME_GRU='0v9_GRU-EPOCHS_100-48_g'\n",
    "MODEL_NAME_NBEATS='0v9_NBEATS-EPOCHS_100-48_g'\n",
    "MODEL_NAME_TFT='0v9_TFT-EPOCHS_100-48_g'\n",
    "\n",
    "#Deep Neural Network parameters:\n",
    "RANDOM_STATE=31\n",
    "INPUT_CHUNK_LENGTH = 48 #periods = hours\n",
    "OUTPUT_CHUNK_LENGTH = 2\n",
    "FORECAST_HORIZON = 2 #periods = hours\n",
    "\n",
    "N_EPOCHS_RNN=100\n",
    "N_EPOCHS_LSTM=100\n",
    "N_EPOCHS_TCN=100\n",
    "N_EPOCHS_GRU=100\n",
    "N_EPOCHS_NBEATS=100\n",
    "N_EPOCHS_TFT=100\n",
    "#N_EPOCHS_TRANSFORMERS=100\n",
    "\n",
    "\n",
    "# start = time.time()\n",
    "# \"the code you want to test stays here\"\n",
    "# end = time.time()\n",
    "# print(end - start)"
   ]
  },
  {
   "cell_type": "code",
   "execution_count": 3,
   "id": "0d7d3729",
   "metadata": {
    "ExecuteTime": {
     "end_time": "2022-02-14T19:41:52.322524Z",
     "start_time": "2022-02-14T19:41:49.600613Z"
    }
   },
   "outputs": [
    {
     "name": "stderr",
     "output_type": "stream",
     "text": [
      "[2022-03-02 18:30:45,050] WARNING | darts.models | Support for Facebook Prophet is not available. To enable it, install \"darts\", \"u8darts[prophet]\" or \"u8darts[all]\" (with pip);or \"u8darts-all\" (with conda).\n"
     ]
    }
   ],
   "source": [
    "import numpy as np\n",
    "import pandas as pd\n",
    "import random\n",
    "from tqdm import tqdm_notebook as tqdm\n",
    "\n",
    "\n",
    "import matplotlib.pyplot as plt\n",
    "import torch\n",
    "\n",
    "from darts import TimeSeries, concatenate\n",
    "from darts.dataprocessing.transformers import Scaler\n",
    "from darts.models import TFTModel, RNNModel, TCNModel, BlockRNNModel, NBEATSModel, ARIMA\n",
    "from darts.metrics import mape, rmse, r2_score, mae, mse\n",
    "\n",
    "import warnings\n",
    "warnings.filterwarnings(\"ignore\")\n",
    "\n",
    "import logging\n",
    "logging.disable(logging.CRITICAL)\n",
    "\n",
    "%matplotlib inline"
   ]
  },
  {
   "cell_type": "code",
   "execution_count": 4,
   "id": "4955ec82",
   "metadata": {
    "ExecuteTime": {
     "end_time": "2022-02-14T19:41:52.485941Z",
     "start_time": "2022-02-14T19:41:52.325152Z"
    }
   },
   "outputs": [],
   "source": [
    "df = pd.read_csv(r\"C:\\Users\\User\\Downloads\\price-ohlc-eth-1h-final.csv\", parse_dates=[\"timestamp\"])\n",
    "df['timestamp'] = pd.to_datetime(df.timestamp).dt.tz_localize(None)\n",
    "nof_missing_values_o = sum(np.isnan(df['o']))\n",
    "nof_missing_values_h = sum(np.isnan(df['h']))\n",
    "nof_missing_values_l = sum(np.isnan(df['l']))\n",
    "nof_missing_values_c = sum(np.isnan(df['c']))\n",
    "\n",
    "df = df.fillna(method=\"backfill\")\n",
    "nof_missing_values = sum(np.isnan(df['o']))\n",
    "\n",
    "df = df.fillna(method=\"backfill\")\n",
    "nof_missing_values = sum(np.isnan(df['h']))\n",
    "\n",
    "df = df.fillna(method=\"backfill\")\n",
    "nof_missing_values = sum(np.isnan(df['l']))\n",
    "\n",
    "df = df.fillna(method=\"backfill\")\n",
    "nof_missing_values = sum(np.isnan(df['c']))\n",
    "\n",
    "train_index = int(len(df)*train_size)\n",
    "\n",
    "df_train = df[0:train_index]\n",
    "df_rem = df[train_index:]\n",
    "\n",
    "valid_index = int(len(df)*valid_size)\n",
    "\n",
    "df_val = df[train_index:train_index+valid_index]\n",
    "df_test = df[train_index+valid_index:]\n",
    "\n",
    "series = TimeSeries.from_dataframe(df, time_col='timestamp', value_cols=['c']).astype(np.float32)\n",
    "series_covariates = TimeSeries.from_dataframe(df, time_col='timestamp', value_cols=['h','l','o']).astype(np.float32)\n",
    "train = TimeSeries.from_dataframe(df_train, time_col='timestamp', value_cols=['c']).astype(np.float32)\n",
    "train_covariates = TimeSeries.from_dataframe(df_train, time_col='timestamp', value_cols=['h','l','o']).astype(np.float32)\n",
    "val = TimeSeries.from_dataframe(df_val, time_col='timestamp', value_cols=['c']).astype(np.float32)\n",
    "val_covariates = TimeSeries.from_dataframe(df_val, time_col='timestamp', value_cols=['h','l','o']).astype(np.float32)\n",
    "test = TimeSeries.from_dataframe(df_test, time_col='timestamp', value_cols=['c']).astype(np.float32)\n",
    "test_covariates = TimeSeries.from_dataframe(df_test, time_col='timestamp', value_cols=['h','l','o']).astype(np.float32)"
   ]
  },
  {
   "cell_type": "code",
   "execution_count": 5,
   "id": "9ade66ef",
   "metadata": {
    "ExecuteTime": {
     "end_time": "2022-02-14T19:41:52.780701Z",
     "start_time": "2022-02-14T19:41:52.487310Z"
    },
    "scrolled": false
   },
   "outputs": [],
   "source": [
    "# train.plot(label=\"Training set Close Price\")\n",
    "# val.plot(label=\"Validation set Close Price\")\n",
    "# test.plot(label=\"Testing set Close Price\")"
   ]
  },
  {
   "cell_type": "code",
   "execution_count": 6,
   "id": "58bf248a",
   "metadata": {
    "ExecuteTime": {
     "end_time": "2022-02-14T19:41:53.144118Z",
     "start_time": "2022-02-14T19:41:52.782404Z"
    },
    "scrolled": true
   },
   "outputs": [],
   "source": [
    "# train_covariates.plot()\n",
    "# val_covariates.plot()\n",
    "# test_covariates.plot()"
   ]
  },
  {
   "cell_type": "code",
   "execution_count": 7,
   "id": "8f01cee2",
   "metadata": {
    "ExecuteTime": {
     "end_time": "2022-02-14T19:41:53.210675Z",
     "start_time": "2022-02-14T19:41:53.145941Z"
    }
   },
   "outputs": [],
   "source": [
    "transformer = Scaler()\n",
    "train_transformed = transformer.fit_transform(train)\n",
    "val_transformed = transformer.transform(val)\n",
    "test_transformed = transformer.transform(test)\n",
    "train_covariates_transformed = transformer.fit_transform(train_covariates)\n",
    "val_covariates_transformed = transformer.transform(val_covariates)\n",
    "test_covariates_transformed = transformer.transform(test_covariates)"
   ]
  },
  {
   "cell_type": "code",
   "execution_count": 8,
   "id": "e8f7344a",
   "metadata": {},
   "outputs": [
    {
     "name": "stdout",
     "output_type": "stream",
     "text": [
      "2.388409376144409 seconds\n"
     ]
    }
   ],
   "source": [
    "tic_prep = time.time()\n",
    "prep_elapsed_time = tic_prep - start\n",
    "print(prep_elapsed_time,'seconds')"
   ]
  },
  {
   "cell_type": "code",
   "execution_count": 9,
   "id": "4ac1fd5b",
   "metadata": {},
   "outputs": [
    {
     "data": {
      "application/vnd.jupyter.widget-view+json": {
       "model_id": "e44e2bbbc58346d88f947c16f4f9d43d",
       "version_major": 2,
       "version_minor": 0
      },
      "text/plain": [
       "  0%|          | 0/100 [00:00<?, ?it/s]"
      ]
     },
     "metadata": {},
     "output_type": "display_data"
    },
    {
     "name": "stdout",
     "output_type": "stream",
     "text": [
      "Training loss: 0.0000, validation loss: 0.0000, best val loss: 0.0000\r"
     ]
    }
   ],
   "source": [
    "rnn_model = RNNModel(\n",
    "    model=\"RNN\",\n",
    "    hidden_dim=20,\n",
    "    dropout=0.1,\n",
    "    batch_size=16,\n",
    "    n_epochs=N_EPOCHS_RNN,\n",
    "    optimizer_kwargs={\"lr\": 1e-3},\n",
    "    model_name=MODEL_NAME_RNN,\n",
    "    log_tensorboard=True,\n",
    "    random_state=RANDOM_STATE,\n",
    "    training_length=48,\n",
    "    input_chunk_length=INPUT_CHUNK_LENGTH,\n",
    "    force_reset=True,\n",
    "    save_checkpoints=True,\n",
    ")\n",
    "\n",
    "rnn_model.fit(\n",
    "    train_transformed,\n",
    "    val_series=val_transformed,\n",
    "    future_covariates=train_covariates_transformed,\n",
    "    val_future_covariates=val_covariates_transformed,\n",
    "    verbose=True,\n",
    ")"
   ]
  },
  {
   "cell_type": "code",
   "execution_count": 10,
   "id": "266bee9b",
   "metadata": {},
   "outputs": [],
   "source": [
    "best_rnn_model = RNNModel.load_from_checkpoint(model_name=MODEL_NAME_RNN, best=True)"
   ]
  },
  {
   "cell_type": "code",
   "execution_count": 11,
   "id": "d5576525",
   "metadata": {
    "ExecuteTime": {
     "end_time": "2022-02-14T21:11:07.592679Z",
     "start_time": "2022-02-14T21:10:26.168101Z"
    },
    "scrolled": false
   },
   "outputs": [
    {
     "data": {
      "application/vnd.jupyter.widget-view+json": {
       "model_id": "7a2ae054545a4205b29cb876e9274bd8",
       "version_major": 2,
       "version_minor": 0
      },
      "text/plain": [
       "  0%|          | 0/2719 [00:00<?, ?it/s]"
      ]
     },
     "metadata": {},
     "output_type": "display_data"
    }
   ],
   "source": [
    "backtest_series_rnn = best_rnn_model.historical_forecasts(\n",
    "    series=test_transformed,\n",
    "    future_covariates=test_covariates_transformed,\n",
    "    start=pd.Timestamp('2021-10-17T11:00:00'),\n",
    "    forecast_horizon=FORECAST_HORIZON,\n",
    "    stride=1,\n",
    "    retrain=False,\n",
    "    verbose=True,\n",
    ")"
   ]
  },
  {
   "cell_type": "code",
   "execution_count": 12,
   "id": "1b8fd80d",
   "metadata": {
    "ExecuteTime": {
     "end_time": "2022-02-14T21:11:07.743888Z",
     "start_time": "2022-02-14T21:11:07.598609Z"
    }
   },
   "outputs": [],
   "source": [
    "# print(\"        Backtesting metric results - Test set with best model\")\n",
    "# print(\"Metrics         MSE\", \"      MAE \",\"     RMSE\", \"        R2          MAPE\")\n",
    "# print(\"RNN:         {:.6f}\".format(mse(backtest_series_rnn, test_transformed)),\n",
    "#       \"  {:.6f}\".format(mae(backtest_series_rnn, test_transformed)),\n",
    "#       \"  {:.6f}\".format(rmse(backtest_series_rnn, test_transformed)),\n",
    "#       \"  {:.6f}\".format(r2_score(backtest_series_rnn, test_transformed)),\n",
    "#       \"  {:.6f}%\".format(mape(backtest_series_rnn, test_transformed))\n",
    "# )"
   ]
  },
  {
   "cell_type": "code",
   "execution_count": 13,
   "id": "422760f2",
   "metadata": {
    "ExecuteTime": {
     "end_time": "2022-02-14T21:11:08.115767Z",
     "start_time": "2022-02-14T21:11:07.746706Z"
    },
    "scrolled": true
   },
   "outputs": [],
   "source": [
    "# test_transformed.plot(label=\"actual\")\n",
    "# backtest_series_rnn.plot(label=\"RNN\")"
   ]
  },
  {
   "cell_type": "code",
   "execution_count": 14,
   "id": "01f7d3c4",
   "metadata": {},
   "outputs": [
    {
     "name": "stdout",
     "output_type": "stream",
     "text": [
      "952.4480092525482 seconds\n"
     ]
    }
   ],
   "source": [
    "tic_rnn = time.time()\n",
    "rnn_elapsed_time = tic_rnn - tic_prep\n",
    "print(rnn_elapsed_time,'seconds')"
   ]
  },
  {
   "cell_type": "code",
   "execution_count": 15,
   "id": "3d57d4cc",
   "metadata": {},
   "outputs": [
    {
     "data": {
      "application/vnd.jupyter.widget-view+json": {
       "model_id": "e6e798166ca649d98917e6ebc45eac2b",
       "version_major": 2,
       "version_minor": 0
      },
      "text/plain": [
       "  0%|          | 0/100 [00:00<?, ?it/s]"
      ]
     },
     "metadata": {},
     "output_type": "display_data"
    },
    {
     "name": "stdout",
     "output_type": "stream",
     "text": [
      "Training loss: 0.0000, validation loss: 0.0000, best val loss: 0.0000\r"
     ]
    }
   ],
   "source": [
    "lstm_model = RNNModel(\n",
    "    model=\"LSTM\",\n",
    "    hidden_dim=20,\n",
    "    dropout=0.1,\n",
    "    batch_size=16,\n",
    "    n_epochs=N_EPOCHS_LSTM,\n",
    "    optimizer_kwargs={\"lr\": 1e-3},\n",
    "    model_name=MODEL_NAME_LSTM,\n",
    "    log_tensorboard=True,\n",
    "    random_state=RANDOM_STATE,\n",
    "    training_length=INPUT_CHUNK_LENGTH,\n",
    "    input_chunk_length=INPUT_CHUNK_LENGTH,\n",
    "    force_reset=True,\n",
    "    save_checkpoints=True,\n",
    ")\n",
    "\n",
    "lstm_model.fit(\n",
    "    train_transformed,\n",
    "    val_series=val_transformed,\n",
    "    future_covariates=train_covariates_transformed,\n",
    "    val_future_covariates=val_covariates_transformed,\n",
    "    verbose=True,\n",
    ")"
   ]
  },
  {
   "cell_type": "code",
   "execution_count": 16,
   "id": "d5c98cd0",
   "metadata": {},
   "outputs": [],
   "source": [
    "best_lstm_model = RNNModel.load_from_checkpoint(model_name=MODEL_NAME_LSTM, best=True)"
   ]
  },
  {
   "cell_type": "code",
   "execution_count": 17,
   "id": "1ffbd4f4",
   "metadata": {},
   "outputs": [
    {
     "data": {
      "application/vnd.jupyter.widget-view+json": {
       "model_id": "f1bcff5272fa48368a57747ef2b0cca6",
       "version_major": 2,
       "version_minor": 0
      },
      "text/plain": [
       "  0%|          | 0/2719 [00:00<?, ?it/s]"
      ]
     },
     "metadata": {},
     "output_type": "display_data"
    }
   ],
   "source": [
    "backtest_series_lstm = best_lstm_model.historical_forecasts(\n",
    "    series=test_transformed,\n",
    "    future_covariates=test_covariates_transformed,\n",
    "    start=pd.Timestamp('2021-10-17T11:00:00'),\n",
    "    forecast_horizon=FORECAST_HORIZON,\n",
    "    stride=1,\n",
    "    retrain=False,\n",
    "    verbose=True,\n",
    ")"
   ]
  },
  {
   "cell_type": "code",
   "execution_count": 18,
   "id": "d273bebb",
   "metadata": {},
   "outputs": [],
   "source": [
    "# print(\"        Backtesting metric results - Test set with best model\")\n",
    "# print(\"Metrics         MSE\", \"      MAE \",\"     RMSE\", \"        R2          MAPE\")\n",
    "# print(\"LSTM:         {:.6f}\".format(mse(backtest_series_lstm, test_transformed)),\n",
    "#       \"  {:.6f}\".format(mae(backtest_series_lstm, test_transformed)),\n",
    "#       \"  {:.6f}\".format(rmse(backtest_series_lstm, test_transformed)),\n",
    "#       \"  {:.6f}\".format(r2_score(backtest_series_lstm, test_transformed)),\n",
    "#       \"  {:.6f}%\".format(mape(backtest_series_lstm, test_transformed))\n",
    "# )"
   ]
  },
  {
   "cell_type": "code",
   "execution_count": 19,
   "id": "f27daf3c",
   "metadata": {},
   "outputs": [],
   "source": [
    "# test_transformed.plot(label=\"actual\")\n",
    "# backtest_series_lstm.plot(label=\"LSTM\")"
   ]
  },
  {
   "cell_type": "code",
   "execution_count": 20,
   "id": "8a89679c",
   "metadata": {},
   "outputs": [],
   "source": [
    "# print(\"        Backtesting metric results - Test set with best model\")\n",
    "# print(\"Metrics         MSE\", \"      MAE \",\"     RMSE\", \"        R2          MAPE\")\n",
    "# print(\"RNN:         {:.6f}\".format(mse(backtest_series_rnn, test_transformed)),\n",
    "#       \"  {:.6f}\".format(mae(backtest_series_rnn, test_transformed)),\n",
    "#       \"  {:.6f}\".format(rmse(backtest_series_rnn, test_transformed)),\n",
    "#       \"  {:.6f}\".format(r2_score(backtest_series_rnn, test_transformed)),\n",
    "#       \"  {:.6f}%\".format(mape(backtest_series_rnn, test_transformed))\n",
    "# )\n",
    "# print(\"LSTM:        {:.6f}\".format(mse(backtest_series_lstm, test_transformed)),\n",
    "#       \"  {:.6f}\".format(mae(backtest_series_lstm, test_transformed)),\n",
    "#       \"  {:.6f}\".format(rmse(backtest_series_lstm, test_transformed)),\n",
    "#       \"  {:.6f}\".format(r2_score(backtest_series_lstm, test_transformed)),\n",
    "#       \"  {:.6f}%\".format(mape(backtest_series_lstm, test_transformed))\n",
    "# )"
   ]
  },
  {
   "cell_type": "code",
   "execution_count": 21,
   "id": "bce32256",
   "metadata": {},
   "outputs": [],
   "source": [
    "# test_transformed.plot(label=\"actual\")\n",
    "# backtest_series_rnn.plot(label=\"RNN\")\n",
    "# backtest_series_lstm.plot(label=\"LSTM\")"
   ]
  },
  {
   "cell_type": "code",
   "execution_count": 22,
   "id": "0b66e406",
   "metadata": {},
   "outputs": [
    {
     "name": "stdout",
     "output_type": "stream",
     "text": [
      "960.9690275192261 seconds\n"
     ]
    }
   ],
   "source": [
    "tic_lstm = time.time()\n",
    "lstm_elapsed_time = tic_lstm - tic_rnn\n",
    "print(lstm_elapsed_time,'seconds')"
   ]
  },
  {
   "cell_type": "code",
   "execution_count": 23,
   "id": "89762c09",
   "metadata": {},
   "outputs": [
    {
     "data": {
      "application/vnd.jupyter.widget-view+json": {
       "model_id": "ddd2d548854347e185602864fd7f7155",
       "version_major": 2,
       "version_minor": 0
      },
      "text/plain": [
       "  0%|          | 0/100 [00:00<?, ?it/s]"
      ]
     },
     "metadata": {},
     "output_type": "display_data"
    },
    {
     "name": "stdout",
     "output_type": "stream",
     "text": [
      "Training loss: 0.0000, validation loss: 0.0001, best val loss: 0.0001\r"
     ]
    }
   ],
   "source": [
    "tcn_model = TCNModel(\n",
    "    input_chunk_length=INPUT_CHUNK_LENGTH,\n",
    "    output_chunk_length=FORECAST_HORIZON,\n",
    "    n_epochs=N_EPOCHS_TCN,\n",
    "    dropout=0.1,\n",
    "    dilation_base=2,\n",
    "    weight_norm=True,\n",
    "    kernel_size=5,\n",
    "    num_filters=3,\n",
    "    random_state=RANDOM_STATE,\n",
    "    force_reset=True,\n",
    "    model_name=MODEL_NAME_TCN,\n",
    "    log_tensorboard=True,\n",
    "    save_checkpoints=True,\n",
    ")\n",
    "\n",
    "tcn_model.fit(\n",
    "    series=train_transformed,\n",
    "    val_series=val_transformed,\n",
    "#    future_covariates=train_covariates_transformed,\n",
    "#    val_future_covariates=val_covariates_transformed,\n",
    "    past_covariates=train_covariates_transformed,\n",
    "    val_past_covariates=val_covariates_transformed,\n",
    "    verbose=True,\n",
    ")"
   ]
  },
  {
   "cell_type": "code",
   "execution_count": 24,
   "id": "9c8e2d6a",
   "metadata": {},
   "outputs": [],
   "source": [
    "best_tcn_model = TCNModel.load_from_checkpoint(model_name=MODEL_NAME_TCN, best=True)"
   ]
  },
  {
   "cell_type": "code",
   "execution_count": 25,
   "id": "2e0160e0",
   "metadata": {},
   "outputs": [
    {
     "data": {
      "application/vnd.jupyter.widget-view+json": {
       "model_id": "eeb900391f154221a7a42b2cb65f9d64",
       "version_major": 2,
       "version_minor": 0
      },
      "text/plain": [
       "  0%|          | 0/2719 [00:00<?, ?it/s]"
      ]
     },
     "metadata": {},
     "output_type": "display_data"
    }
   ],
   "source": [
    "backtest_series_tcn = best_tcn_model.historical_forecasts(\n",
    "    series=test_transformed,\n",
    "    past_covariates=test_covariates_transformed,\n",
    "    start=pd.Timestamp('2021-10-17T11:00:00'),            \n",
    "    forecast_horizon=FORECAST_HORIZON,\n",
    "    stride=1,\n",
    "    retrain=False,\n",
    "    verbose=True,\n",
    ")"
   ]
  },
  {
   "cell_type": "code",
   "execution_count": 26,
   "id": "95ec5f4c",
   "metadata": {},
   "outputs": [],
   "source": [
    "# print(\"        Backtesting metric results - Test set with best model\")\n",
    "# print(\"Metrics         MSE\", \"      MAE \",\"     RMSE\", \"        R2          MAPE\")\n",
    "# print(\"TCN:         {:.6f}\".format(mse(backtest_series_tcn, test_transformed)),\n",
    "#       \"  {:.6f}\".format(mae(backtest_series_tcn, test_transformed)),\n",
    "#       \"  {:.6f}\".format(rmse(backtest_series_tcn, test_transformed)),\n",
    "#       \"  {:.6f}\".format(r2_score(backtest_series_tcn, test_transformed)),\n",
    "#       \"  {:.6f}%\".format(mape(backtest_series_tcn, test_transformed))\n",
    "# )"
   ]
  },
  {
   "cell_type": "code",
   "execution_count": 27,
   "id": "81baf3d8",
   "metadata": {},
   "outputs": [],
   "source": [
    "# test_transformed.plot(label=\"actual\")\n",
    "# backtest_series_tcn.plot(label=\"TCN\")"
   ]
  },
  {
   "cell_type": "code",
   "execution_count": 28,
   "id": "7cd6c511",
   "metadata": {},
   "outputs": [],
   "source": [
    "# print(\"        Backtesting metric results - Test set with best model\")\n",
    "# print(\"Metrics         MSE\", \"      MAE \",\"     RMSE\", \"        R2          MAPE\")\n",
    "# print(\"RNN:         {:.6f}\".format(mse(backtest_series_rnn, test_transformed)),\n",
    "#       \"  {:.6f}\".format(mae(backtest_series_rnn, test_transformed)),\n",
    "#       \"  {:.6f}\".format(rmse(backtest_series_rnn, test_transformed)),\n",
    "#       \"  {:.6f}\".format(r2_score(backtest_series_rnn, test_transformed)),\n",
    "#       \"  {:.6f}%\".format(mape(backtest_series_rnn, test_transformed))\n",
    "# )\n",
    "# print(\"LSTM:        {:.6f}\".format(mse(backtest_series_lstm, test_transformed)),\n",
    "#       \"  {:.6f}\".format(mae(backtest_series_lstm, test_transformed)),\n",
    "#       \"  {:.6f}\".format(rmse(backtest_series_lstm, test_transformed)),\n",
    "#       \"  {:.6f}\".format(r2_score(backtest_series_lstm, test_transformed)),\n",
    "#       \"  {:.6f}%\".format(mape(backtest_series_lstm, test_transformed))\n",
    "# )\n",
    "# print(\"TCN:         {:.6f}\".format(mse(backtest_series_tcn, test_transformed)),\n",
    "#       \"  {:.6f}\".format(mae(backtest_series_tcn, test_transformed)),\n",
    "#       \"  {:.6f}\".format(rmse(backtest_series_tcn, test_transformed)),\n",
    "#       \"  {:.6f}\".format(r2_score(backtest_series_tcn, test_transformed)),\n",
    "#       \"  {:.6f}%\".format(mape(backtest_series_tcn, test_transformed))\n",
    "# )"
   ]
  },
  {
   "cell_type": "code",
   "execution_count": 29,
   "id": "5e43b898",
   "metadata": {
    "scrolled": true
   },
   "outputs": [],
   "source": [
    "# test_transformed.plot(label=\"actual\")\n",
    "# backtest_series_rnn.plot(label=\"RNN\")\n",
    "# backtest_series_lstm.plot(label=\"LSTM\")\n",
    "# backtest_series_tcn.plot(label=\"TCN\")"
   ]
  },
  {
   "cell_type": "code",
   "execution_count": 30,
   "id": "8fbcf468",
   "metadata": {},
   "outputs": [
    {
     "name": "stdout",
     "output_type": "stream",
     "text": [
      "417.2058069705963 seconds\n"
     ]
    }
   ],
   "source": [
    "tic_tcn = time.time()\n",
    "tcn_elapsed_time = tic_tcn - tic_lstm\n",
    "print(tcn_elapsed_time,'seconds')"
   ]
  },
  {
   "cell_type": "code",
   "execution_count": 31,
   "id": "ddaa0843",
   "metadata": {
    "scrolled": true
   },
   "outputs": [
    {
     "data": {
      "application/vnd.jupyter.widget-view+json": {
       "model_id": "a077b40f475a4cefbcd16016503760ed",
       "version_major": 2,
       "version_minor": 0
      },
      "text/plain": [
       "  0%|          | 0/100 [00:00<?, ?it/s]"
      ]
     },
     "metadata": {},
     "output_type": "display_data"
    },
    {
     "name": "stdout",
     "output_type": "stream",
     "text": [
      "Training loss: 0.0000, validation loss: 0.0001, best val loss: 0.0001\r"
     ]
    }
   ],
   "source": [
    "gru_model = BlockRNNModel(\n",
    "    model=\"GRU\",\n",
    "    input_chunk_length=INPUT_CHUNK_LENGTH,\n",
    "    output_chunk_length=FORECAST_HORIZON,\n",
    "    hidden_size=10,\n",
    "    n_rnn_layers=1,\n",
    "    batch_size=32,\n",
    "    n_epochs=N_EPOCHS_GRU,\n",
    "    dropout=0.1,\n",
    "    model_name=MODEL_NAME_GRU,\n",
    "    nr_epochs_val_period=1,\n",
    "    optimizer_kwargs={\"lr\": 1e-3},\n",
    "    log_tensorboard=True,\n",
    "    random_state=RANDOM_STATE,\n",
    "    force_reset=True,\n",
    "    save_checkpoints=True,\n",
    ")\n",
    "\n",
    "gru_model.fit(\n",
    "    series=train_transformed,\n",
    "    val_series=val_transformed,\n",
    "#     future_covariates=train_covariates_transformed,\n",
    "#     val_future_covariates=val_covariates_transformed,\n",
    "    past_covariates=train_covariates_transformed,\n",
    "    val_past_covariates=val_covariates_transformed,\n",
    "    verbose=True,\n",
    ")"
   ]
  },
  {
   "cell_type": "code",
   "execution_count": 32,
   "id": "b43ef834",
   "metadata": {},
   "outputs": [],
   "source": [
    "best_gru_model = BlockRNNModel.load_from_checkpoint(model_name=MODEL_NAME_TCN, best=True)"
   ]
  },
  {
   "cell_type": "code",
   "execution_count": 33,
   "id": "02dd0c2b",
   "metadata": {},
   "outputs": [
    {
     "data": {
      "application/vnd.jupyter.widget-view+json": {
       "model_id": "0a6633ed53004578b5598b247061f6a8",
       "version_major": 2,
       "version_minor": 0
      },
      "text/plain": [
       "  0%|          | 0/2719 [00:00<?, ?it/s]"
      ]
     },
     "metadata": {},
     "output_type": "display_data"
    }
   ],
   "source": [
    "backtest_series_gru = best_gru_model.historical_forecasts(\n",
    "    series=test_transformed,\n",
    "    past_covariates=test_covariates_transformed,\n",
    "    start=pd.Timestamp('2021-10-17T11:00:00'),\n",
    "    forecast_horizon=FORECAST_HORIZON,\n",
    "    stride=1,\n",
    "    retrain=False,\n",
    "    verbose=True,\n",
    ")"
   ]
  },
  {
   "cell_type": "code",
   "execution_count": 34,
   "id": "64585e50",
   "metadata": {},
   "outputs": [],
   "source": [
    "# print(\"        Backtesting metric results - Test set with best model\")\n",
    "# print(\"Metrics         MSE\", \"      MAE \",\"     RMSE\", \"        R2          MAPE\")\n",
    "# print(\"GRU:         {:.6f}\".format(mse(backtest_series_gru, test_transformed)),\n",
    "#       \"  {:.6f}\".format(mae(backtest_series_gru, test_transformed)),\n",
    "#       \"  {:.6f}\".format(rmse(backtest_series_gru, test_transformed)),\n",
    "#       \"  {:.6f}\".format(r2_score(backtest_series_gru, test_transformed)),\n",
    "#       \"  {:.6f}%\".format(mape(backtest_series_gru, test_transformed))\n",
    "# )"
   ]
  },
  {
   "cell_type": "code",
   "execution_count": 35,
   "id": "e7930573",
   "metadata": {
    "scrolled": false
   },
   "outputs": [],
   "source": [
    "# test_transformed.plot(label=\"actual\")\n",
    "# backtest_series_gru.plot(label=\"GRU\")"
   ]
  },
  {
   "cell_type": "code",
   "execution_count": 36,
   "id": "60561150",
   "metadata": {},
   "outputs": [],
   "source": [
    "# print(\"        Backtesting metric results - Test set with best model\")\n",
    "# print(\"Metrics         MSE\", \"      MAE \",\"     RMSE\", \"        R2          MAPE\")\n",
    "# print(\"RNN:         {:.6f}\".format(mse(backtest_series_rnn, test_transformed)),\n",
    "#       \"  {:.6f}\".format(mae(backtest_series_rnn, test_transformed)),\n",
    "#       \"  {:.6f}\".format(rmse(backtest_series_rnn, test_transformed)),\n",
    "#       \"  {:.6f}\".format(r2_score(backtest_series_rnn, test_transformed)),\n",
    "#       \"  {:.6f}%\".format(mape(backtest_series_rnn, test_transformed))\n",
    "# )\n",
    "# print(\"LSTM:        {:.6f}\".format(mse(backtest_series_lstm, test_transformed)),\n",
    "#       \"  {:.6f}\".format(mae(backtest_series_lstm, test_transformed)),\n",
    "#       \"  {:.6f}\".format(rmse(backtest_series_lstm, test_transformed)),\n",
    "#       \"  {:.6f}\".format(r2_score(backtest_series_lstm, test_transformed)),\n",
    "#       \"  {:.6f}%\".format(mape(backtest_series_lstm, test_transformed))\n",
    "# )\n",
    "# print(\"TCN:         {:.6f}\".format(mse(backtest_series_tcn, test_transformed)),\n",
    "#       \"  {:.6f}\".format(mae(backtest_series_tcn, test_transformed)),\n",
    "#       \"  {:.6f}\".format(rmse(backtest_series_tcn, test_transformed)),\n",
    "#       \"  {:.6f}\".format(r2_score(backtest_series_tcn, test_transformed)),\n",
    "#       \"  {:.6f}%\".format(mape(backtest_series_tcn, test_transformed))\n",
    "# )\n",
    "# print(\"GRU:         {:.6f}\".format(mse(backtest_series_gru, test_transformed)),\n",
    "#       \"  {:.6f}\".format(mae(backtest_series_gru, test_transformed)),\n",
    "#       \"  {:.6f}\".format(rmse(backtest_series_gru, test_transformed)),\n",
    "#       \"  {:.6f}\".format(r2_score(backtest_series_gru, test_transformed)),\n",
    "#       \"  {:.6f}%\".format(mape(backtest_series_gru, test_transformed))\n",
    "# )"
   ]
  },
  {
   "cell_type": "code",
   "execution_count": 37,
   "id": "a6f3b3cb",
   "metadata": {
    "scrolled": true
   },
   "outputs": [],
   "source": [
    "# test_transformed.plot(label=\"actual\")\n",
    "# backtest_series_rnn.plot(label=\"RNN\")\n",
    "# backtest_series_lstm.plot(label=\"LSTM\")\n",
    "# backtest_series_tcn.plot(label=\"TCN\")\n",
    "# backtest_series_gru.plot(label=\"GRU\")"
   ]
  },
  {
   "cell_type": "code",
   "execution_count": 38,
   "id": "35fa5b0e",
   "metadata": {},
   "outputs": [
    {
     "name": "stdout",
     "output_type": "stream",
     "text": [
      "550.7094163894653 seconds\n"
     ]
    }
   ],
   "source": [
    "tic_gru = time.time()\n",
    "gru_elapsed_time = tic_gru - tic_tcn\n",
    "print(gru_elapsed_time,'seconds')"
   ]
  },
  {
   "cell_type": "code",
   "execution_count": 39,
   "id": "8cee2108",
   "metadata": {},
   "outputs": [
    {
     "data": {
      "application/vnd.jupyter.widget-view+json": {
       "model_id": "b5d8e0d2281f4abd97866d4a71a87d37",
       "version_major": 2,
       "version_minor": 0
      },
      "text/plain": [
       "  0%|          | 0/100 [00:00<?, ?it/s]"
      ]
     },
     "metadata": {},
     "output_type": "display_data"
    },
    {
     "name": "stdout",
     "output_type": "stream",
     "text": [
      "Training loss: 0.0000, validation loss: 0.0001, best val loss: 0.0001\r"
     ]
    }
   ],
   "source": [
    "nbeats_model = NBEATSModel(\n",
    "    input_chunk_length=INPUT_CHUNK_LENGTH,\n",
    "    output_chunk_length=FORECAST_HORIZON,\n",
    "    generic_architecture=True,\n",
    "    num_stacks=10,\n",
    "    num_blocks=1,\n",
    "    num_layers=4,\n",
    "    layer_widths=512,\n",
    "    n_epochs=N_EPOCHS_NBEATS,\n",
    "    nr_epochs_val_period=1,\n",
    "    batch_size=16,\n",
    "    model_name=MODEL_NAME_NBEATS,\n",
    "    save_checkpoints=True,\n",
    "    random_state=RANDOM_STATE,\n",
    "    force_reset=True,\n",
    "    log_tensorboard=True,\n",
    ")\n",
    "\n",
    "nbeats_model.fit(\n",
    "    series=train_transformed,\n",
    "    val_series=val_transformed,\n",
    "#    future_covariates=train_covariates_transformed,\n",
    "#    val_future_covariates=val_covariates_transformed,\n",
    "    past_covariates=train_covariates_transformed,\n",
    "    val_past_covariates=val_covariates_transformed,\n",
    "    verbose=True,\n",
    ")"
   ]
  },
  {
   "cell_type": "code",
   "execution_count": 40,
   "id": "41561461",
   "metadata": {},
   "outputs": [],
   "source": [
    "best_nbeats_model = NBEATSModel.load_from_checkpoint(model_name=MODEL_NAME_NBEATS, best=True)"
   ]
  },
  {
   "cell_type": "code",
   "execution_count": 41,
   "id": "0f9c03b9",
   "metadata": {},
   "outputs": [
    {
     "data": {
      "application/vnd.jupyter.widget-view+json": {
       "model_id": "554bcc58792342979be7ea8e33fa37d3",
       "version_major": 2,
       "version_minor": 0
      },
      "text/plain": [
       "  0%|          | 0/2719 [00:00<?, ?it/s]"
      ]
     },
     "metadata": {},
     "output_type": "display_data"
    }
   ],
   "source": [
    "backtest_series_nbeats = best_nbeats_model.historical_forecasts(\n",
    "    series=test_transformed,\n",
    "    past_covariates=test_covariates_transformed,\n",
    "    start=pd.Timestamp('2021-10-17T11:00:00'),\n",
    "    forecast_horizon=FORECAST_HORIZON,\n",
    "    stride=1,\n",
    "    retrain=False,\n",
    "    verbose=True,\n",
    ")"
   ]
  },
  {
   "cell_type": "code",
   "execution_count": 42,
   "id": "d7e0204e",
   "metadata": {},
   "outputs": [],
   "source": [
    "# print(\"        Backtesting metric results - Test set with best model\")\n",
    "# print(\"Metrics         MSE\", \"      MAE \",\"     RMSE\", \"        R2          MAPE\")\n",
    "# print(\"NBEATS:         {:.6f}\".format(mse(backtest_series_nbeats, test_transformed)),\n",
    "#       \"  {:.6f}\".format(mae(backtest_series_nbeats, test_transformed)),\n",
    "#       \"  {:.6f}\".format(rmse(backtest_series_nbeats, test_transformed)),\n",
    "#       \"  {:.6f}\".format(r2_score(backtest_series_nbeats, test_transformed)),\n",
    "#       \"  {:.6f}%\".format(mape(backtest_series_nbeats, test_transformed))\n",
    "# )"
   ]
  },
  {
   "cell_type": "code",
   "execution_count": 43,
   "id": "54958933",
   "metadata": {},
   "outputs": [],
   "source": [
    "# test_transformed.plot(label=\"actual\")\n",
    "# backtest_series_nbeats.plot(label=\"NBEATS\")"
   ]
  },
  {
   "cell_type": "code",
   "execution_count": 44,
   "id": "8e70d871",
   "metadata": {},
   "outputs": [],
   "source": [
    "# print(\"        Backtesting metric results - Test set with best model\")\n",
    "# print(\"Metrics         MSE\", \"      MAE \",\"     RMSE\", \"        R2          MAPE\")\n",
    "# print(\"RNN:         {:.6f}\".format(mse(backtest_series_rnn, test_transformed)),\n",
    "#       \"  {:.6f}\".format(mae(backtest_series_rnn, test_transformed)),\n",
    "#       \"  {:.6f}\".format(rmse(backtest_series_rnn, test_transformed)),\n",
    "#       \"  {:.6f}\".format(r2_score(backtest_series_rnn, test_transformed)),\n",
    "#       \"  {:.6f}%\".format(mape(backtest_series_rnn, test_transformed))\n",
    "# )\n",
    "# print(\"LSTM:        {:.6f}\".format(mse(backtest_series_lstm, test_transformed)),\n",
    "#       \"  {:.6f}\".format(mae(backtest_series_lstm, test_transformed)),\n",
    "#       \"  {:.6f}\".format(rmse(backtest_series_lstm, test_transformed)),\n",
    "#       \"  {:.6f}\".format(r2_score(backtest_series_lstm, test_transformed)),\n",
    "#       \"  {:.6f}%\".format(mape(backtest_series_lstm, test_transformed))\n",
    "# )\n",
    "# print(\"TCN:         {:.6f}\".format(mse(backtest_series_tcn, test_transformed)),\n",
    "#       \"  {:.6f}\".format(mae(backtest_series_tcn, test_transformed)),\n",
    "#       \"  {:.6f}\".format(rmse(backtest_series_tcn, test_transformed)),\n",
    "#       \"  {:.6f}\".format(r2_score(backtest_series_tcn, test_transformed)),\n",
    "#       \"  {:.6f}%\".format(mape(backtest_series_tcn, test_transformed))\n",
    "# )\n",
    "# print(\"GRU:         {:.6f}\".format(mse(backtest_series_gru, test_transformed)),\n",
    "#       \"  {:.6f}\".format(mae(backtest_series_gru, test_transformed)),\n",
    "#       \"  {:.6f}\".format(rmse(backtest_series_gru, test_transformed)),\n",
    "#       \"  {:.6f}\".format(r2_score(backtest_series_gru, test_transformed)),\n",
    "#       \"  {:.6f}%\".format(mape(backtest_series_gru, test_transformed))\n",
    "# )\n",
    "# print(\"NBEATS:      {:.6f}\".format(mse(backtest_series_nbeats, test_transformed)),\n",
    "#       \"  {:.6f}\".format(mae(backtest_series_nbeats, test_transformed)),\n",
    "#       \"  {:.6f}\".format(rmse(backtest_series_nbeats, test_transformed)),\n",
    "#       \"  {:.6f}\".format(r2_score(backtest_series_nbeats, test_transformed)),\n",
    "#       \"  {:.6f}%\".format(mape(backtest_series_nbeats, test_transformed))\n",
    "# )"
   ]
  },
  {
   "cell_type": "code",
   "execution_count": 45,
   "id": "6fa00297",
   "metadata": {},
   "outputs": [],
   "source": [
    "# test_transformed.plot(label=\"actual\")\n",
    "# backtest_series_rnn.plot(label=\"RNN\")\n",
    "# backtest_series_lstm.plot(label=\"LSTM\")\n",
    "# backtest_series_tcn.plot(label=\"TCN\")\n",
    "# backtest_series_gru.plot(label=\"GRU\")\n",
    "# backtest_series_nbeats.plot(label=\"NBEATS\")"
   ]
  },
  {
   "cell_type": "code",
   "execution_count": 46,
   "id": "00eeb41b",
   "metadata": {},
   "outputs": [
    {
     "name": "stdout",
     "output_type": "stream",
     "text": [
      "2257.2088990211487 seconds\n"
     ]
    }
   ],
   "source": [
    "tic_nbeats = time.time()\n",
    "nbeats_elapsed_time = tic_nbeats - tic_gru\n",
    "print(nbeats_elapsed_time,'seconds')"
   ]
  },
  {
   "cell_type": "code",
   "execution_count": 47,
   "id": "35f400a9",
   "metadata": {
    "scrolled": true
   },
   "outputs": [
    {
     "data": {
      "application/vnd.jupyter.widget-view+json": {
       "model_id": "7775fa8e62ab4c9ebebe4058df645e1e",
       "version_major": 2,
       "version_minor": 0
      },
      "text/plain": [
       "  0%|          | 0/100 [00:00<?, ?it/s]"
      ]
     },
     "metadata": {},
     "output_type": "display_data"
    },
    {
     "name": "stdout",
     "output_type": "stream",
     "text": [
      "Training loss: 0.0001, validation loss: 0.0001, best val loss: 0.0001\r"
     ]
    }
   ],
   "source": [
    "tft_model = TFTModel(\n",
    "    input_chunk_length=INPUT_CHUNK_LENGTH,\n",
    "    output_chunk_length=OUTPUT_CHUNK_LENGTH,\n",
    "    hidden_size=32,\n",
    "    lstm_layers=1,\n",
    "    num_attention_heads=N_ATTENTION_HEADS,\n",
    "    dropout=0.1,\n",
    "    batch_size=16,\n",
    "    n_epochs=N_EPOCHS_TFT,\n",
    "    likelihood=None,\n",
    "    loss_fn=torch.nn.MSELoss(),\n",
    "    random_state=RANDOM_STATE,\n",
    "    add_relative_index=True,\n",
    "    force_reset=True,\n",
    "    model_name=MODEL_NAME_TFT,\n",
    "    save_checkpoints=True,\n",
    "    log_tensorboard=True,\n",
    ")\n",
    "\n",
    "tft_model.fit(\n",
    "    train_transformed,\n",
    "    val_series=val_transformed,\n",
    "    past_covariates=train_covariates_transformed,\n",
    "    val_past_covariates=val_covariates_transformed,\n",
    "    verbose=True\n",
    ")"
   ]
  },
  {
   "cell_type": "code",
   "execution_count": 48,
   "id": "a03629bb",
   "metadata": {},
   "outputs": [],
   "source": [
    "best_tft_model = TFTModel.load_from_checkpoint(model_name=MODEL_NAME_TFT, best=True)"
   ]
  },
  {
   "cell_type": "code",
   "execution_count": 49,
   "id": "675bc0f5",
   "metadata": {},
   "outputs": [
    {
     "data": {
      "application/vnd.jupyter.widget-view+json": {
       "model_id": "a87330a3e92941f391271ca862d4cfa1",
       "version_major": 2,
       "version_minor": 0
      },
      "text/plain": [
       "  0%|          | 0/2719 [00:00<?, ?it/s]"
      ]
     },
     "metadata": {},
     "output_type": "display_data"
    }
   ],
   "source": [
    "backtest_series_tft = best_tft_model.historical_forecasts(\n",
    "    series=test_transformed,\n",
    "    start=pd.Timestamp('2021-10-17T11:00:00'),\n",
    "    past_covariates=test_covariates_transformed,\n",
    "    forecast_horizon=FORECAST_HORIZON,\n",
    "    stride=1,\n",
    "    retrain=False,\n",
    "    verbose=True,\n",
    ")"
   ]
  },
  {
   "cell_type": "code",
   "execution_count": 50,
   "id": "aa111874",
   "metadata": {},
   "outputs": [],
   "source": [
    "# print(\"        Backtesting metric results - Test set with best model\")\n",
    "# print(\"Metrics         MSE\", \"      MAE \",\"     RMSE\", \"        R2          MAPE\")\n",
    "# print(\"TFT:         {:.6f}\".format(mse(backtest_series_tft, test_transformed)),\n",
    "#       \"  {:.6f}\".format(mae(backtest_series_tft, test_transformed)),\n",
    "#       \"  {:.6f}\".format(rmse(backtest_series_tft, test_transformed)),\n",
    "#       \"  {:.6f}\".format(r2_score(backtest_series_tft, test_transformed)),\n",
    "#       \"  {:.6f}%\".format(mape(backtest_series_tft, test_transformed))\n",
    "# )"
   ]
  },
  {
   "cell_type": "code",
   "execution_count": 51,
   "id": "44104e3d",
   "metadata": {},
   "outputs": [],
   "source": [
    "# test_transformed.plot(label=\"actual\")\n",
    "# backtest_series_tft.plot(label=\"TFT\")"
   ]
  },
  {
   "cell_type": "code",
   "execution_count": 52,
   "id": "658128ce",
   "metadata": {},
   "outputs": [],
   "source": [
    "# print(\"        Backtesting metric results - Test set with best model\")\n",
    "# print(\"Metrics         MSE\", \"      MAE \",\"     RMSE\", \"        R2          MAPE\")\n",
    "# print(\"RNN:         {:.6f}\".format(mse(backtest_series_rnn, test_transformed)),\n",
    "#       \"  {:.6f}\".format(mae(backtest_series_rnn, test_transformed)),\n",
    "#       \"  {:.6f}\".format(rmse(backtest_series_rnn, test_transformed)),\n",
    "#       \"  {:.6f}\".format(r2_score(backtest_series_rnn, test_transformed)),\n",
    "#       \"  {:.6f}%\".format(mape(backtest_series_rnn, test_transformed))\n",
    "# )\n",
    "# print(\"LSTM:        {:.6f}\".format(mse(backtest_series_lstm, test_transformed)),\n",
    "#       \"  {:.6f}\".format(mae(backtest_series_lstm, test_transformed)),\n",
    "#       \"  {:.6f}\".format(rmse(backtest_series_lstm, test_transformed)),\n",
    "#       \"  {:.6f}\".format(r2_score(backtest_series_lstm, test_transformed)),\n",
    "#       \"  {:.6f}%\".format(mape(backtest_series_lstm, test_transformed))\n",
    "# )\n",
    "# print(\"TCN:         {:.6f}\".format(mse(backtest_series_tcn, test_transformed)),\n",
    "#       \"  {:.6f}\".format(mae(backtest_series_tcn, test_transformed)),\n",
    "#       \"  {:.6f}\".format(rmse(backtest_series_tcn, test_transformed)),\n",
    "#       \"  {:.6f}\".format(r2_score(backtest_series_tcn, test_transformed)),\n",
    "#       \"  {:.6f}%\".format(mape(backtest_series_tcn, test_transformed))\n",
    "# )\n",
    "# print(\"GRU:         {:.6f}\".format(mse(backtest_series_gru, test_transformed)),\n",
    "#       \"  {:.6f}\".format(mae(backtest_series_gru, test_transformed)),\n",
    "#       \"  {:.6f}\".format(rmse(backtest_series_gru, test_transformed)),\n",
    "#       \"  {:.6f}\".format(r2_score(backtest_series_gru, test_transformed)),\n",
    "#       \"  {:.6f}%\".format(mape(backtest_series_gru, test_transformed))\n",
    "# )\n",
    "# print(\"NBEATS:      {:.6f}\".format(mse(backtest_series_nbeats, test_transformed)),\n",
    "#       \"  {:.6f}\".format(mae(backtest_series_nbeats, test_transformed)),\n",
    "#       \"  {:.6f}\".format(rmse(backtest_series_nbeats, test_transformed)),\n",
    "#       \"  {:.6f}\".format(r2_score(backtest_series_nbeats, test_transformed)),\n",
    "#       \"  {:.6f}%\".format(mape(backtest_series_nbeats, test_transformed))\n",
    "# )\n",
    "# print(\"TFT:         {:.6f}\".format(mse(backtest_series_tft, test_transformed)),\n",
    "#       \"  {:.6f}\".format(mae(backtest_series_tft, test_transformed)),\n",
    "#       \"  {:.6f}\".format(rmse(backtest_series_tft, test_transformed)),\n",
    "#       \"  {:.6f}\".format(r2_score(backtest_series_tft, test_transformed)),\n",
    "#       \"  {:.6f}%\".format(mape(backtest_series_tft, test_transformed))\n",
    "# )"
   ]
  },
  {
   "cell_type": "code",
   "execution_count": 53,
   "id": "6ed89eb9",
   "metadata": {},
   "outputs": [],
   "source": [
    "# test_transformed.plot(label=\"actual\")\n",
    "# backtest_series_rnn.plot(label=\"RNN\")\n",
    "# backtest_series_lstm.plot(label=\"LSTM\")\n",
    "# backtest_series_tcn.plot(label=\"TCN\")\n",
    "# backtest_series_gru.plot(label=\"GRU\")\n",
    "# backtest_series_nbeats.plot(label=\"NBEATS\")\n",
    "# backtest_series_tft.plot(label=\"TFT\")"
   ]
  },
  {
   "cell_type": "code",
   "execution_count": 54,
   "id": "c933fdc7",
   "metadata": {},
   "outputs": [
    {
     "name": "stdout",
     "output_type": "stream",
     "text": [
      "2886.200038433075 seconds\n"
     ]
    }
   ],
   "source": [
    "tic_tft = time.time()\n",
    "tft_elapsed_time = tic_tft - tic_nbeats\n",
    "print(tft_elapsed_time,'seconds')"
   ]
  },
  {
   "cell_type": "code",
   "execution_count": 55,
   "id": "f0a21939",
   "metadata": {},
   "outputs": [],
   "source": [
    "arima_model = ARIMA()\n",
    "arima_model.fit(train_transformed)"
   ]
  },
  {
   "cell_type": "code",
   "execution_count": 56,
   "id": "ed938faf",
   "metadata": {},
   "outputs": [
    {
     "data": {
      "application/vnd.jupyter.widget-view+json": {
       "model_id": "115a51d8b78b492c911a3639db3dc69b",
       "version_major": 2,
       "version_minor": 0
      },
      "text/plain": [
       "  0%|          | 0/2719 [00:00<?, ?it/s]"
      ]
     },
     "metadata": {},
     "output_type": "display_data"
    }
   ],
   "source": [
    "backtest_series_arima = arima_model.historical_forecasts(\n",
    "    series=test_transformed,\n",
    "    start=pd.Timestamp('2021-10-17T11:00:00'),\n",
    "    forecast_horizon=FORECAST_HORIZON,\n",
    "    stride=1,\n",
    "    retrain=True,\n",
    "    verbose=True,\n",
    ")"
   ]
  },
  {
   "cell_type": "code",
   "execution_count": 57,
   "id": "b22ee73a",
   "metadata": {},
   "outputs": [],
   "source": [
    "# print(\"        Backtesting metric results - Test set with best model\")\n",
    "# print(\"Metrics         MSE\", \"      MAE \",\"     RMSE\", \"        R2          MAPE\")\n",
    "# print(\"ARIMA:          {:.6f}\".format(mse(backtest_series_arima, test_transformed)),\n",
    "#       \"  {:.6f}\".format(mae(backtest_series_arima, test_transformed)),\n",
    "#       \"  {:.6f}\".format(rmse(backtest_series_arima, test_transformed)),\n",
    "#       \"  {:.6f}\".format(r2_score(backtest_series_arima, test_transformed)),\n",
    "#       \"  {:.6f}%\".format(mape(backtest_series_arima, test_transformed))\n",
    "# )"
   ]
  },
  {
   "cell_type": "code",
   "execution_count": 58,
   "id": "6be46b68",
   "metadata": {},
   "outputs": [],
   "source": [
    "# test_transformed.plot(label=\"actual\")\n",
    "# backtest_series_arima.plot(label=\"ARIMA\")"
   ]
  },
  {
   "cell_type": "code",
   "execution_count": 59,
   "id": "839e730d",
   "metadata": {},
   "outputs": [
    {
     "name": "stdout",
     "output_type": "stream",
     "text": [
      "2886.200038433075 seconds\n"
     ]
    }
   ],
   "source": [
    "tic_arima = time.time()\n",
    "arima_elapsed_time = tic_arima - tic_tft\n",
    "print(tft_elapsed_time,'seconds')"
   ]
  },
  {
   "cell_type": "code",
   "execution_count": 60,
   "id": "38070d0f",
   "metadata": {},
   "outputs": [
    {
     "name": "stdout",
     "output_type": "stream",
     "text": [
      "      Backtesting metric results - Testing set with best models\n",
      "Metrics         MSE       MAE       RMSE         R2          MAPE\n",
      "RNN:         0.000010   0.002320   0.003139   0.999582   0.260124%\n",
      "LSTM:        0.000008   0.001997   0.002754   0.999681   0.228815%\n",
      "TCN:         0.000109   0.007218   0.010427   0.995431   0.845724%\n",
      "GRU:         0.000109   0.007218   0.010427   0.995431   0.845724%\n",
      "NBEATS:      0.000116   0.007478   0.010773   0.995084   0.877596%\n",
      "TFT:         0.001577   0.025322   0.039708   0.916856   2.783343%\n",
      "ARIMA:       0.000108   0.007276   0.010389   0.995466   0.850972%\n"
     ]
    }
   ],
   "source": [
    "print(\"      Backtesting metric results - Testing set with best models\")\n",
    "print(\"Metrics         MSE\", \"      MAE \",\"     RMSE\", \"        R2          MAPE\")\n",
    "print(\"RNN:         {:.6f}\".format(mse(backtest_series_rnn, test_transformed)),\n",
    "      \"  {:.6f}\".format(mae(backtest_series_rnn, test_transformed)),\n",
    "      \"  {:.6f}\".format(rmse(backtest_series_rnn, test_transformed)),\n",
    "      \"  {:.6f}\".format(r2_score(backtest_series_rnn, test_transformed)),\n",
    "      \"  {:.6f}%\".format(mape(backtest_series_rnn, test_transformed))\n",
    ")\n",
    "print(\"LSTM:        {:.6f}\".format(mse(backtest_series_lstm, test_transformed)),\n",
    "      \"  {:.6f}\".format(mae(backtest_series_lstm, test_transformed)),\n",
    "      \"  {:.6f}\".format(rmse(backtest_series_lstm, test_transformed)),\n",
    "      \"  {:.6f}\".format(r2_score(backtest_series_lstm, test_transformed)),\n",
    "      \"  {:.6f}%\".format(mape(backtest_series_lstm, test_transformed))\n",
    ")\n",
    "print(\"TCN:         {:.6f}\".format(mse(backtest_series_tcn, test_transformed)),\n",
    "      \"  {:.6f}\".format(mae(backtest_series_tcn, test_transformed)),\n",
    "      \"  {:.6f}\".format(rmse(backtest_series_tcn, test_transformed)),\n",
    "      \"  {:.6f}\".format(r2_score(backtest_series_tcn, test_transformed)),\n",
    "      \"  {:.6f}%\".format(mape(backtest_series_tcn, test_transformed))\n",
    ")\n",
    "print(\"GRU:         {:.6f}\".format(mse(backtest_series_gru, test_transformed)),\n",
    "      \"  {:.6f}\".format(mae(backtest_series_gru, test_transformed)),\n",
    "      \"  {:.6f}\".format(rmse(backtest_series_gru, test_transformed)),\n",
    "      \"  {:.6f}\".format(r2_score(backtest_series_gru, test_transformed)),\n",
    "      \"  {:.6f}%\".format(mape(backtest_series_gru, test_transformed))\n",
    ")\n",
    "print(\"NBEATS:      {:.6f}\".format(mse(backtest_series_nbeats, test_transformed)),\n",
    "      \"  {:.6f}\".format(mae(backtest_series_nbeats, test_transformed)),\n",
    "      \"  {:.6f}\".format(rmse(backtest_series_nbeats, test_transformed)),\n",
    "      \"  {:.6f}\".format(r2_score(backtest_series_nbeats, test_transformed)),\n",
    "      \"  {:.6f}%\".format(mape(backtest_series_nbeats, test_transformed))\n",
    ")\n",
    "print(\"TFT:         {:.6f}\".format(mse(backtest_series_tft, test_transformed)),\n",
    "      \"  {:.6f}\".format(mae(backtest_series_tft, test_transformed)),\n",
    "      \"  {:.6f}\".format(rmse(backtest_series_tft, test_transformed)),\n",
    "      \"  {:.6f}\".format(r2_score(backtest_series_tft, test_transformed)),\n",
    "      \"  {:.6f}%\".format(mape(backtest_series_tft, test_transformed))\n",
    ")\n",
    "print(\"ARIMA:       {:.6f}\".format(mse(backtest_series_arima, test_transformed)),\n",
    "      \"  {:.6f}\".format(mae(backtest_series_arima, test_transformed)),\n",
    "      \"  {:.6f}\".format(rmse(backtest_series_arima, test_transformed)),\n",
    "      \"  {:.6f}\".format(r2_score(backtest_series_arima, test_transformed)),\n",
    "      \"  {:.6f}%\".format(mape(backtest_series_arima, test_transformed))\n",
    ")"
   ]
  },
  {
   "cell_type": "code",
   "execution_count": 61,
   "id": "dbec44c4",
   "metadata": {},
   "outputs": [
    {
     "data": {
      "text/plain": [
       "Text(0, 0.5, 'Normalized ETH close value')"
      ]
     },
     "execution_count": 61,
     "metadata": {},
     "output_type": "execute_result"
    },
    {
     "data": {
      "image/png": "[encoded data removed]",
      "text/plain": [
       "<Figure size 432x288 with 1 Axes>"
      ]
     },
     "metadata": {
      "needs_background": "light"
     },
     "output_type": "display_data"
    }
   ],
   "source": [
    "test_transformed.plot(label=\"Ground Truth\")\n",
    "backtest_series_rnn.plot(label=\"RNN\")\n",
    "backtest_series_lstm.plot(label=\"LSTM\")\n",
    "backtest_series_tcn.plot(label=\"TCN\")\n",
    "backtest_series_gru.plot(label=\"GRU\")\n",
    "backtest_series_nbeats.plot(label=\"NBEATS\")\n",
    "backtest_series_tft.plot(label=\"TFT\")\n",
    "backtest_series_arima.plot(label=\"ARIMA\")\n",
    "figsize = (36, 24)\n",
    "plt.legend(\n",
    "           borderpad=0,\n",
    "           labelspacing=0.4,\n",
    "           title_fontsize='large',\n",
    "           shadow=False,\n",
    "           frameon=False,\n",
    "           loc='best'  \n",
    "          )\n",
    "plt.ylabel('Normalized ETH close value')"
   ]
  },
  {
   "cell_type": "code",
   "execution_count": 62,
   "id": "c050eb5c",
   "metadata": {},
   "outputs": [
    {
     "name": "stdout",
     "output_type": "stream",
     "text": [
      "--------Processing Time (seconds)-----------\n",
      "Preparation:      2.388409376144409 seconds\n",
      "RNN model:      952.4480092525482  seconds\n",
      "LSTM model:     960.9690275192261  seconds\n",
      "TCN model:       417.2058069705963  seconds\n",
      "GRU model:       550.7094163894653  seconds\n",
      "NBEATS model:   2257.2088990211487   seconds\n",
      "TFT model:      2886.200038433075   seconds\n",
      "ARIMA model:   1690.740665435791   seconds\n"
     ]
    }
   ],
   "source": [
    "print('--------Processing Time (seconds)-----------')\n",
    "print('Preparation:     ',prep_elapsed_time,'seconds')\n",
    "print('RNN model:     ', rnn_elapsed_time,' seconds')\n",
    "print('LSTM model:    ',lstm_elapsed_time,' seconds')\n",
    "print('TCN model:      ',tcn_elapsed_time,' seconds')\n",
    "print('GRU model:      ',gru_elapsed_time,' seconds')\n",
    "print('NBEATS model:  ',nbeats_elapsed_time, '  seconds')\n",
    "print('TFT model:     ',tft_elapsed_time,'  seconds')\n",
    "print('ARIMA model:  ',arima_elapsed_time,'  seconds')"
   ]
  }
 ],
 "metadata": {
  "kernelspec": {
   "display_name": "Python 3 (ipykernel)",
   "language": "python",
   "name": "python3"
  },
  "language_info": {
   "codemirror_mode": {
    "name": "ipython",
    "version": 3
   },
   "file_extension": ".py",
   "mimetype": "text/x-python",
   "name": "python",
   "nbconvert_exporter": "python",
   "pygments_lexer": "ipython3",
   "version": "3.7.11"
  }
 },
 "nbformat": 4,
 "nbformat_minor": 5
}
